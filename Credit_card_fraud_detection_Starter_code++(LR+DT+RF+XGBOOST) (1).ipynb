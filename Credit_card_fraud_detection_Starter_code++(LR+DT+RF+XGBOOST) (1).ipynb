{
 "cells": [
  {
   "cell_type": "markdown",
   "metadata": {},
   "source": [
    "## Credit Card Fraud Detection\n",
    "\n",
    "In this project you will predict fraudulent credit card transactions with the help of Machine learning models. Please import the following libraries to get started."
   ]
  },
  {
   "cell_type": "code",
   "execution_count": 1,
   "metadata": {
    "scrolled": false
   },
   "outputs": [],
   "source": [
    "import numpy as np\n",
    "import pandas as pd\n",
    "\n",
    "import matplotlib.pyplot as plt\n",
    "%matplotlib inline\n",
    "import seaborn as sns\n",
    "\n",
    "from sklearn import metrics\n",
    "from sklearn import preprocessing\n",
    "\n",
    "\n",
    "import warnings\n",
    "warnings.filterwarnings('ignore')"
   ]
  },
  {
   "cell_type": "markdown",
   "metadata": {},
   "source": [
    "## Exploratory data analysis"
   ]
  },
  {
   "cell_type": "code",
   "execution_count": 2,
   "metadata": {},
   "outputs": [
    {
     "data": {
      "text/html": [
       "<div>\n",
       "<style scoped>\n",
       "    .dataframe tbody tr th:only-of-type {\n",
       "        vertical-align: middle;\n",
       "    }\n",
       "\n",
       "    .dataframe tbody tr th {\n",
       "        vertical-align: top;\n",
       "    }\n",
       "\n",
       "    .dataframe thead th {\n",
       "        text-align: right;\n",
       "    }\n",
       "</style>\n",
       "<table border=\"1\" class=\"dataframe\">\n",
       "  <thead>\n",
       "    <tr style=\"text-align: right;\">\n",
       "      <th></th>\n",
       "      <th>Time</th>\n",
       "      <th>V1</th>\n",
       "      <th>V2</th>\n",
       "      <th>V3</th>\n",
       "      <th>V4</th>\n",
       "      <th>V5</th>\n",
       "      <th>V6</th>\n",
       "      <th>V7</th>\n",
       "      <th>V8</th>\n",
       "      <th>V9</th>\n",
       "      <th>...</th>\n",
       "      <th>V21</th>\n",
       "      <th>V22</th>\n",
       "      <th>V23</th>\n",
       "      <th>V24</th>\n",
       "      <th>V25</th>\n",
       "      <th>V26</th>\n",
       "      <th>V27</th>\n",
       "      <th>V28</th>\n",
       "      <th>Amount</th>\n",
       "      <th>Class</th>\n",
       "    </tr>\n",
       "  </thead>\n",
       "  <tbody>\n",
       "    <tr>\n",
       "      <th>0</th>\n",
       "      <td>0.0</td>\n",
       "      <td>-1.359807</td>\n",
       "      <td>-0.072781</td>\n",
       "      <td>2.536347</td>\n",
       "      <td>1.378155</td>\n",
       "      <td>-0.338321</td>\n",
       "      <td>0.462388</td>\n",
       "      <td>0.239599</td>\n",
       "      <td>0.098698</td>\n",
       "      <td>0.363787</td>\n",
       "      <td>...</td>\n",
       "      <td>-0.018307</td>\n",
       "      <td>0.277838</td>\n",
       "      <td>-0.110474</td>\n",
       "      <td>0.066928</td>\n",
       "      <td>0.128539</td>\n",
       "      <td>-0.189115</td>\n",
       "      <td>0.133558</td>\n",
       "      <td>-0.021053</td>\n",
       "      <td>149.62</td>\n",
       "      <td>0</td>\n",
       "    </tr>\n",
       "    <tr>\n",
       "      <th>1</th>\n",
       "      <td>0.0</td>\n",
       "      <td>1.191857</td>\n",
       "      <td>0.266151</td>\n",
       "      <td>0.166480</td>\n",
       "      <td>0.448154</td>\n",
       "      <td>0.060018</td>\n",
       "      <td>-0.082361</td>\n",
       "      <td>-0.078803</td>\n",
       "      <td>0.085102</td>\n",
       "      <td>-0.255425</td>\n",
       "      <td>...</td>\n",
       "      <td>-0.225775</td>\n",
       "      <td>-0.638672</td>\n",
       "      <td>0.101288</td>\n",
       "      <td>-0.339846</td>\n",
       "      <td>0.167170</td>\n",
       "      <td>0.125895</td>\n",
       "      <td>-0.008983</td>\n",
       "      <td>0.014724</td>\n",
       "      <td>2.69</td>\n",
       "      <td>0</td>\n",
       "    </tr>\n",
       "    <tr>\n",
       "      <th>2</th>\n",
       "      <td>1.0</td>\n",
       "      <td>-1.358354</td>\n",
       "      <td>-1.340163</td>\n",
       "      <td>1.773209</td>\n",
       "      <td>0.379780</td>\n",
       "      <td>-0.503198</td>\n",
       "      <td>1.800499</td>\n",
       "      <td>0.791461</td>\n",
       "      <td>0.247676</td>\n",
       "      <td>-1.514654</td>\n",
       "      <td>...</td>\n",
       "      <td>0.247998</td>\n",
       "      <td>0.771679</td>\n",
       "      <td>0.909412</td>\n",
       "      <td>-0.689281</td>\n",
       "      <td>-0.327642</td>\n",
       "      <td>-0.139097</td>\n",
       "      <td>-0.055353</td>\n",
       "      <td>-0.059752</td>\n",
       "      <td>378.66</td>\n",
       "      <td>0</td>\n",
       "    </tr>\n",
       "    <tr>\n",
       "      <th>3</th>\n",
       "      <td>1.0</td>\n",
       "      <td>-0.966272</td>\n",
       "      <td>-0.185226</td>\n",
       "      <td>1.792993</td>\n",
       "      <td>-0.863291</td>\n",
       "      <td>-0.010309</td>\n",
       "      <td>1.247203</td>\n",
       "      <td>0.237609</td>\n",
       "      <td>0.377436</td>\n",
       "      <td>-1.387024</td>\n",
       "      <td>...</td>\n",
       "      <td>-0.108300</td>\n",
       "      <td>0.005274</td>\n",
       "      <td>-0.190321</td>\n",
       "      <td>-1.175575</td>\n",
       "      <td>0.647376</td>\n",
       "      <td>-0.221929</td>\n",
       "      <td>0.062723</td>\n",
       "      <td>0.061458</td>\n",
       "      <td>123.50</td>\n",
       "      <td>0</td>\n",
       "    </tr>\n",
       "    <tr>\n",
       "      <th>4</th>\n",
       "      <td>2.0</td>\n",
       "      <td>-1.158233</td>\n",
       "      <td>0.877737</td>\n",
       "      <td>1.548718</td>\n",
       "      <td>0.403034</td>\n",
       "      <td>-0.407193</td>\n",
       "      <td>0.095921</td>\n",
       "      <td>0.592941</td>\n",
       "      <td>-0.270533</td>\n",
       "      <td>0.817739</td>\n",
       "      <td>...</td>\n",
       "      <td>-0.009431</td>\n",
       "      <td>0.798278</td>\n",
       "      <td>-0.137458</td>\n",
       "      <td>0.141267</td>\n",
       "      <td>-0.206010</td>\n",
       "      <td>0.502292</td>\n",
       "      <td>0.219422</td>\n",
       "      <td>0.215153</td>\n",
       "      <td>69.99</td>\n",
       "      <td>0</td>\n",
       "    </tr>\n",
       "  </tbody>\n",
       "</table>\n",
       "<p>5 rows × 31 columns</p>\n",
       "</div>"
      ],
      "text/plain": [
       "   Time        V1        V2        V3        V4        V5        V6        V7  \\\n",
       "0   0.0 -1.359807 -0.072781  2.536347  1.378155 -0.338321  0.462388  0.239599   \n",
       "1   0.0  1.191857  0.266151  0.166480  0.448154  0.060018 -0.082361 -0.078803   \n",
       "2   1.0 -1.358354 -1.340163  1.773209  0.379780 -0.503198  1.800499  0.791461   \n",
       "3   1.0 -0.966272 -0.185226  1.792993 -0.863291 -0.010309  1.247203  0.237609   \n",
       "4   2.0 -1.158233  0.877737  1.548718  0.403034 -0.407193  0.095921  0.592941   \n",
       "\n",
       "         V8        V9  ...       V21       V22       V23       V24       V25  \\\n",
       "0  0.098698  0.363787  ... -0.018307  0.277838 -0.110474  0.066928  0.128539   \n",
       "1  0.085102 -0.255425  ... -0.225775 -0.638672  0.101288 -0.339846  0.167170   \n",
       "2  0.247676 -1.514654  ...  0.247998  0.771679  0.909412 -0.689281 -0.327642   \n",
       "3  0.377436 -1.387024  ... -0.108300  0.005274 -0.190321 -1.175575  0.647376   \n",
       "4 -0.270533  0.817739  ... -0.009431  0.798278 -0.137458  0.141267 -0.206010   \n",
       "\n",
       "        V26       V27       V28  Amount  Class  \n",
       "0 -0.189115  0.133558 -0.021053  149.62      0  \n",
       "1  0.125895 -0.008983  0.014724    2.69      0  \n",
       "2 -0.139097 -0.055353 -0.059752  378.66      0  \n",
       "3 -0.221929  0.062723  0.061458  123.50      0  \n",
       "4  0.502292  0.219422  0.215153   69.99      0  \n",
       "\n",
       "[5 rows x 31 columns]"
      ]
     },
     "execution_count": 2,
     "metadata": {},
     "output_type": "execute_result"
    }
   ],
   "source": [
    "df=pd.read_csv(\"creditcard.csv\")\n",
    "df.head()"
   ]
  },
  {
   "cell_type": "code",
   "execution_count": 3,
   "metadata": {},
   "outputs": [
    {
     "name": "stdout",
     "output_type": "stream",
     "text": [
      "<class 'pandas.core.frame.DataFrame'>\n",
      "RangeIndex: 284807 entries, 0 to 284806\n",
      "Data columns (total 31 columns):\n",
      "Time      284807 non-null float64\n",
      "V1        284807 non-null float64\n",
      "V2        284807 non-null float64\n",
      "V3        284807 non-null float64\n",
      "V4        284807 non-null float64\n",
      "V5        284807 non-null float64\n",
      "V6        284807 non-null float64\n",
      "V7        284807 non-null float64\n",
      "V8        284807 non-null float64\n",
      "V9        284807 non-null float64\n",
      "V10       284807 non-null float64\n",
      "V11       284807 non-null float64\n",
      "V12       284807 non-null float64\n",
      "V13       284807 non-null float64\n",
      "V14       284807 non-null float64\n",
      "V15       284807 non-null float64\n",
      "V16       284807 non-null float64\n",
      "V17       284807 non-null float64\n",
      "V18       284807 non-null float64\n",
      "V19       284807 non-null float64\n",
      "V20       284807 non-null float64\n",
      "V21       284807 non-null float64\n",
      "V22       284807 non-null float64\n",
      "V23       284807 non-null float64\n",
      "V24       284807 non-null float64\n",
      "V25       284807 non-null float64\n",
      "V26       284807 non-null float64\n",
      "V27       284807 non-null float64\n",
      "V28       284807 non-null float64\n",
      "Amount    284807 non-null float64\n",
      "Class     284807 non-null int64\n",
      "dtypes: float64(30), int64(1)\n",
      "memory usage: 67.4 MB\n"
     ]
    }
   ],
   "source": [
    "#observe the different feature type present in the data\n",
    "\n",
    "df.info()"
   ]
  },
  {
   "cell_type": "markdown",
   "metadata": {},
   "source": [
    "There is no null values present in the data"
   ]
  },
  {
   "cell_type": "markdown",
   "metadata": {},
   "source": [
    "Here we will observe the distribution of our classes"
   ]
  },
  {
   "cell_type": "code",
   "execution_count": 4,
   "metadata": {},
   "outputs": [
    {
     "name": "stdout",
     "output_type": "stream",
     "text": [
      "normal_share -- 99.83\n",
      "fraud_share -- 0.17\n"
     ]
    }
   ],
   "source": [
    "classes=df['Class'].value_counts()\n",
    "normal_share= round (classes[0]/df['Class'].count()*100,2)\n",
    "fraud_share=round (classes[1]/df['Class'].count()*100, 2)\n",
    "\n",
    "print('normal_share --',normal_share)\n",
    "print('fraud_share --',fraud_share)"
   ]
  },
  {
   "cell_type": "code",
   "execution_count": 5,
   "metadata": {
    "scrolled": true
   },
   "outputs": [
    {
     "data": {
      "text/plain": [
       "Text(0.7, 0.45, '492\\n(0.1727%)')"
      ]
     },
     "execution_count": 5,
     "metadata": {},
     "output_type": "execute_result"
    },
    {
     "data": {
      "image/png": "[encoded data removed]",
      "text/plain": [
       "<Figure size 432x288 with 1 Axes>"
      ]
     },
     "metadata": {
      "needs_background": "light"
     },
     "output_type": "display_data"
    }
   ],
   "source": [
    "# Create a bar plot for the number and percentage of fraudulent vs non-fraudulent transcations\n",
    "\n",
    "plt.bar(['Non-Fraud','Fraud'], df['Class'].value_counts())\n",
    "plt.annotate('{}\\n({:.4}%)'.format(df['Class'].value_counts()[0],\n",
    "                                   df['Class'].value_counts()[0]/df['Class'].count()*100),\n",
    "                                   (0.20, 0.45), xycoords='axes fraction')\n",
    "plt.annotate('{}\\n({:.4}%)'.format(df['Class'].value_counts()[1], \n",
    "                                   df['Class'].value_counts()[1]/df['Class'].count()*100),\n",
    "                                   (0.70, 0.45), xycoords='axes fraction')"
   ]
  },
  {
   "cell_type": "code",
   "execution_count": 6,
   "metadata": {},
   "outputs": [
    {
     "data": {
      "text/plain": [
       "<matplotlib.axes._subplots.AxesSubplot at 0x215eb97d2b0>"
      ]
     },
     "execution_count": 6,
     "metadata": {},
     "output_type": "execute_result"
    },
    {
     "data": {
      "image/png": "[encoded data removed]",
      "text/plain": [
       "<Figure size 432x288 with 1 Axes>"
      ]
     },
     "metadata": {
      "needs_background": "light"
     },
     "output_type": "display_data"
    }
   ],
   "source": [
    "# Create a scatter plot to observe the distribution of classes with time\n",
    "sns.scatterplot(y=df['Class'], x=df['Time'])\n"
   ]
  },
  {
   "cell_type": "code",
   "execution_count": 7,
   "metadata": {},
   "outputs": [
    {
     "data": {
      "text/plain": [
       "<matplotlib.axes._subplots.AxesSubplot at 0x215ebf14860>"
      ]
     },
     "execution_count": 7,
     "metadata": {},
     "output_type": "execute_result"
    },
    {
     "data": {
      "image/png": "[encoded data removed]",
      "text/plain": [
       "<Figure size 432x288 with 1 Axes>"
      ]
     },
     "metadata": {
      "needs_background": "light"
     },
     "output_type": "display_data"
    }
   ],
   "source": [
    "# Create a scatter plot to observe the distribution of classes with Amount\n",
    "sns.scatterplot(y=df['Class'], x=df['Amount'])\n"
   ]
  },
  {
   "cell_type": "code",
   "execution_count": 8,
   "metadata": {},
   "outputs": [
    {
     "data": {
      "image/png": "[encoded data removed]",
      "text/plain": [
       "<Figure size 474.375x432 with 1 Axes>"
      ]
     },
     "metadata": {
      "needs_background": "light"
     },
     "output_type": "display_data"
    }
   ],
   "source": [
    "sns.FacetGrid(df, hue=\"Class\", size = 6).map(plt.scatter, \"Time\", \"Amount\").add_legend()\n",
    "plt.show()"
   ]
  },
  {
   "cell_type": "markdown",
   "metadata": {},
   "source": [
    "Observations:\n",
    "\n",
    "> From the above two plots it is clearly visible that there are frauds only on the transactions which have transaction amount approximately less than 2500. Transactions which have transaction amount approximately above 2500 have no fraud.\n",
    "\n",
    "> As per with the time, the frauds in the transactions are evenly distributed throughout time."
   ]
  },
  {
   "cell_type": "code",
   "execution_count": 9,
   "metadata": {},
   "outputs": [],
   "source": [
    "# Drop unnecessary columns\n",
    "df.drop('Time',axis=1,inplace=True)"
   ]
  },
  {
   "cell_type": "markdown",
   "metadata": {},
   "source": [
    "### Splitting the data into train & test data"
   ]
  },
  {
   "cell_type": "code",
   "execution_count": 10,
   "metadata": {},
   "outputs": [],
   "source": [
    "y= df['Class']#class variable\n",
    "x=df.drop(['Class'],axis=1)"
   ]
  },
  {
   "cell_type": "code",
   "execution_count": 11,
   "metadata": {},
   "outputs": [],
   "source": [
    "from sklearn import model_selection\n",
    "\n",
    "X_train, X_test, y_train, y_test = model_selection.train_test_split(x,y,train_size=0.7,random_state=42)"
   ]
  },
  {
   "cell_type": "code",
   "execution_count": 12,
   "metadata": {},
   "outputs": [
    {
     "data": {
      "text/html": [
       "<div>\n",
       "<style scoped>\n",
       "    .dataframe tbody tr th:only-of-type {\n",
       "        vertical-align: middle;\n",
       "    }\n",
       "\n",
       "    .dataframe tbody tr th {\n",
       "        vertical-align: top;\n",
       "    }\n",
       "\n",
       "    .dataframe thead th {\n",
       "        text-align: right;\n",
       "    }\n",
       "</style>\n",
       "<table border=\"1\" class=\"dataframe\">\n",
       "  <thead>\n",
       "    <tr style=\"text-align: right;\">\n",
       "      <th></th>\n",
       "      <th>V1</th>\n",
       "      <th>V2</th>\n",
       "      <th>V3</th>\n",
       "      <th>V4</th>\n",
       "      <th>V5</th>\n",
       "      <th>V6</th>\n",
       "      <th>V7</th>\n",
       "      <th>V8</th>\n",
       "      <th>V9</th>\n",
       "      <th>V10</th>\n",
       "      <th>...</th>\n",
       "      <th>V20</th>\n",
       "      <th>V21</th>\n",
       "      <th>V22</th>\n",
       "      <th>V23</th>\n",
       "      <th>V24</th>\n",
       "      <th>V25</th>\n",
       "      <th>V26</th>\n",
       "      <th>V27</th>\n",
       "      <th>V28</th>\n",
       "      <th>Amount</th>\n",
       "    </tr>\n",
       "  </thead>\n",
       "  <tbody>\n",
       "    <tr>\n",
       "      <th>2557</th>\n",
       "      <td>-2.289565</td>\n",
       "      <td>-0.480260</td>\n",
       "      <td>0.818685</td>\n",
       "      <td>-1.706423</td>\n",
       "      <td>0.822102</td>\n",
       "      <td>-1.660326</td>\n",
       "      <td>0.944047</td>\n",
       "      <td>-0.541765</td>\n",
       "      <td>1.323156</td>\n",
       "      <td>-0.434426</td>\n",
       "      <td>...</td>\n",
       "      <td>-0.831985</td>\n",
       "      <td>-0.210837</td>\n",
       "      <td>0.914737</td>\n",
       "      <td>0.867888</td>\n",
       "      <td>0.422969</td>\n",
       "      <td>0.310584</td>\n",
       "      <td>-0.781488</td>\n",
       "      <td>0.392241</td>\n",
       "      <td>-0.147757</td>\n",
       "      <td>1.00</td>\n",
       "    </tr>\n",
       "    <tr>\n",
       "      <th>247823</th>\n",
       "      <td>-0.313717</td>\n",
       "      <td>-4.064342</td>\n",
       "      <td>-3.398445</td>\n",
       "      <td>0.704011</td>\n",
       "      <td>0.101662</td>\n",
       "      <td>1.529848</td>\n",
       "      <td>1.551670</td>\n",
       "      <td>-0.036774</td>\n",
       "      <td>0.015829</td>\n",
       "      <td>-0.359561</td>\n",
       "      <td>...</td>\n",
       "      <td>2.142593</td>\n",
       "      <td>0.853186</td>\n",
       "      <td>-0.091941</td>\n",
       "      <td>-0.936215</td>\n",
       "      <td>-0.833081</td>\n",
       "      <td>-0.498728</td>\n",
       "      <td>0.651183</td>\n",
       "      <td>-0.290331</td>\n",
       "      <td>0.110360</td>\n",
       "      <td>1194.28</td>\n",
       "    </tr>\n",
       "    <tr>\n",
       "      <th>152342</th>\n",
       "      <td>-1.809763</td>\n",
       "      <td>-0.567439</td>\n",
       "      <td>2.265186</td>\n",
       "      <td>-0.960318</td>\n",
       "      <td>-1.212537</td>\n",
       "      <td>1.516493</td>\n",
       "      <td>-1.417176</td>\n",
       "      <td>0.903421</td>\n",
       "      <td>1.961027</td>\n",
       "      <td>-0.724328</td>\n",
       "      <td>...</td>\n",
       "      <td>-0.554004</td>\n",
       "      <td>-0.509915</td>\n",
       "      <td>-0.424978</td>\n",
       "      <td>-0.268621</td>\n",
       "      <td>0.010121</td>\n",
       "      <td>0.466862</td>\n",
       "      <td>0.835540</td>\n",
       "      <td>-0.062385</td>\n",
       "      <td>0.088079</td>\n",
       "      <td>75.00</td>\n",
       "    </tr>\n",
       "    <tr>\n",
       "      <th>103385</th>\n",
       "      <td>1.192319</td>\n",
       "      <td>0.178575</td>\n",
       "      <td>0.141491</td>\n",
       "      <td>0.459628</td>\n",
       "      <td>-0.049959</td>\n",
       "      <td>-0.112122</td>\n",
       "      <td>-0.163883</td>\n",
       "      <td>0.155740</td>\n",
       "      <td>-0.067566</td>\n",
       "      <td>-0.130220</td>\n",
       "      <td>...</td>\n",
       "      <td>-0.149985</td>\n",
       "      <td>-0.240464</td>\n",
       "      <td>-0.739862</td>\n",
       "      <td>0.116799</td>\n",
       "      <td>-0.373837</td>\n",
       "      <td>0.125470</td>\n",
       "      <td>0.130126</td>\n",
       "      <td>-0.016956</td>\n",
       "      <td>0.011937</td>\n",
       "      <td>1.98</td>\n",
       "    </tr>\n",
       "    <tr>\n",
       "      <th>8771</th>\n",
       "      <td>-0.963451</td>\n",
       "      <td>0.700311</td>\n",
       "      <td>1.097333</td>\n",
       "      <td>-1.547626</td>\n",
       "      <td>0.669966</td>\n",
       "      <td>0.513533</td>\n",
       "      <td>0.333683</td>\n",
       "      <td>0.270900</td>\n",
       "      <td>1.381880</td>\n",
       "      <td>-0.659956</td>\n",
       "      <td>...</td>\n",
       "      <td>0.122458</td>\n",
       "      <td>-0.279519</td>\n",
       "      <td>-0.470181</td>\n",
       "      <td>-0.124037</td>\n",
       "      <td>-1.388839</td>\n",
       "      <td>-0.237453</td>\n",
       "      <td>0.785347</td>\n",
       "      <td>0.349708</td>\n",
       "      <td>0.216207</td>\n",
       "      <td>37.31</td>\n",
       "    </tr>\n",
       "  </tbody>\n",
       "</table>\n",
       "<p>5 rows × 29 columns</p>\n",
       "</div>"
      ],
      "text/plain": [
       "              V1        V2        V3        V4        V5        V6        V7  \\\n",
       "2557   -2.289565 -0.480260  0.818685 -1.706423  0.822102 -1.660326  0.944047   \n",
       "247823 -0.313717 -4.064342 -3.398445  0.704011  0.101662  1.529848  1.551670   \n",
       "152342 -1.809763 -0.567439  2.265186 -0.960318 -1.212537  1.516493 -1.417176   \n",
       "103385  1.192319  0.178575  0.141491  0.459628 -0.049959 -0.112122 -0.163883   \n",
       "8771   -0.963451  0.700311  1.097333 -1.547626  0.669966  0.513533  0.333683   \n",
       "\n",
       "              V8        V9       V10  ...       V20       V21       V22  \\\n",
       "2557   -0.541765  1.323156 -0.434426  ... -0.831985 -0.210837  0.914737   \n",
       "247823 -0.036774  0.015829 -0.359561  ...  2.142593  0.853186 -0.091941   \n",
       "152342  0.903421  1.961027 -0.724328  ... -0.554004 -0.509915 -0.424978   \n",
       "103385  0.155740 -0.067566 -0.130220  ... -0.149985 -0.240464 -0.739862   \n",
       "8771    0.270900  1.381880 -0.659956  ...  0.122458 -0.279519 -0.470181   \n",
       "\n",
       "             V23       V24       V25       V26       V27       V28   Amount  \n",
       "2557    0.867888  0.422969  0.310584 -0.781488  0.392241 -0.147757     1.00  \n",
       "247823 -0.936215 -0.833081 -0.498728  0.651183 -0.290331  0.110360  1194.28  \n",
       "152342 -0.268621  0.010121  0.466862  0.835540 -0.062385  0.088079    75.00  \n",
       "103385  0.116799 -0.373837  0.125470  0.130126 -0.016956  0.011937     1.98  \n",
       "8771   -0.124037 -1.388839 -0.237453  0.785347  0.349708  0.216207    37.31  \n",
       "\n",
       "[5 rows x 29 columns]"
      ]
     },
     "execution_count": 12,
     "metadata": {},
     "output_type": "execute_result"
    }
   ],
   "source": [
    "X_train.head()"
   ]
  },
  {
   "cell_type": "code",
   "execution_count": 13,
   "metadata": {},
   "outputs": [
    {
     "data": {
      "text/html": [
       "<div>\n",
       "<style scoped>\n",
       "    .dataframe tbody tr th:only-of-type {\n",
       "        vertical-align: middle;\n",
       "    }\n",
       "\n",
       "    .dataframe tbody tr th {\n",
       "        vertical-align: top;\n",
       "    }\n",
       "\n",
       "    .dataframe thead th {\n",
       "        text-align: right;\n",
       "    }\n",
       "</style>\n",
       "<table border=\"1\" class=\"dataframe\">\n",
       "  <thead>\n",
       "    <tr style=\"text-align: right;\">\n",
       "      <th></th>\n",
       "      <th>V1</th>\n",
       "      <th>V2</th>\n",
       "      <th>V3</th>\n",
       "      <th>V4</th>\n",
       "      <th>V5</th>\n",
       "      <th>V6</th>\n",
       "      <th>V7</th>\n",
       "      <th>V8</th>\n",
       "      <th>V9</th>\n",
       "      <th>V10</th>\n",
       "      <th>...</th>\n",
       "      <th>V20</th>\n",
       "      <th>V21</th>\n",
       "      <th>V22</th>\n",
       "      <th>V23</th>\n",
       "      <th>V24</th>\n",
       "      <th>V25</th>\n",
       "      <th>V26</th>\n",
       "      <th>V27</th>\n",
       "      <th>V28</th>\n",
       "      <th>Amount</th>\n",
       "    </tr>\n",
       "  </thead>\n",
       "  <tbody>\n",
       "    <tr>\n",
       "      <th>43428</th>\n",
       "      <td>-16.526507</td>\n",
       "      <td>8.584972</td>\n",
       "      <td>-18.649853</td>\n",
       "      <td>9.505594</td>\n",
       "      <td>-13.793819</td>\n",
       "      <td>-2.832404</td>\n",
       "      <td>-16.701694</td>\n",
       "      <td>7.517344</td>\n",
       "      <td>-8.507059</td>\n",
       "      <td>-14.110184</td>\n",
       "      <td>...</td>\n",
       "      <td>-1.514923</td>\n",
       "      <td>1.190739</td>\n",
       "      <td>-1.127670</td>\n",
       "      <td>-2.358579</td>\n",
       "      <td>0.673461</td>\n",
       "      <td>-1.413700</td>\n",
       "      <td>-0.462762</td>\n",
       "      <td>-2.018575</td>\n",
       "      <td>-1.042804</td>\n",
       "      <td>364.19</td>\n",
       "    </tr>\n",
       "    <tr>\n",
       "      <th>49906</th>\n",
       "      <td>0.339812</td>\n",
       "      <td>-2.743745</td>\n",
       "      <td>-0.134070</td>\n",
       "      <td>-1.385729</td>\n",
       "      <td>-1.451413</td>\n",
       "      <td>1.015887</td>\n",
       "      <td>-0.524379</td>\n",
       "      <td>0.224060</td>\n",
       "      <td>0.899746</td>\n",
       "      <td>-0.565012</td>\n",
       "      <td>...</td>\n",
       "      <td>0.506044</td>\n",
       "      <td>-0.213436</td>\n",
       "      <td>-0.942525</td>\n",
       "      <td>-0.526819</td>\n",
       "      <td>-1.156992</td>\n",
       "      <td>0.311211</td>\n",
       "      <td>-0.746647</td>\n",
       "      <td>0.040996</td>\n",
       "      <td>0.102038</td>\n",
       "      <td>520.12</td>\n",
       "    </tr>\n",
       "    <tr>\n",
       "      <th>29474</th>\n",
       "      <td>1.399590</td>\n",
       "      <td>-0.590701</td>\n",
       "      <td>0.168619</td>\n",
       "      <td>-1.029950</td>\n",
       "      <td>-0.539806</td>\n",
       "      <td>0.040444</td>\n",
       "      <td>-0.712567</td>\n",
       "      <td>0.002299</td>\n",
       "      <td>-0.971747</td>\n",
       "      <td>0.756801</td>\n",
       "      <td>...</td>\n",
       "      <td>0.212877</td>\n",
       "      <td>0.102398</td>\n",
       "      <td>0.168269</td>\n",
       "      <td>-0.166639</td>\n",
       "      <td>-0.810250</td>\n",
       "      <td>0.505083</td>\n",
       "      <td>-0.232340</td>\n",
       "      <td>0.011409</td>\n",
       "      <td>0.004634</td>\n",
       "      <td>31.00</td>\n",
       "    </tr>\n",
       "    <tr>\n",
       "      <th>276481</th>\n",
       "      <td>-0.432071</td>\n",
       "      <td>1.647895</td>\n",
       "      <td>-1.669361</td>\n",
       "      <td>-0.349504</td>\n",
       "      <td>0.785785</td>\n",
       "      <td>-0.630647</td>\n",
       "      <td>0.276990</td>\n",
       "      <td>0.586025</td>\n",
       "      <td>-0.484715</td>\n",
       "      <td>-1.376648</td>\n",
       "      <td>...</td>\n",
       "      <td>-0.244633</td>\n",
       "      <td>0.358932</td>\n",
       "      <td>0.873663</td>\n",
       "      <td>-0.178642</td>\n",
       "      <td>-0.017171</td>\n",
       "      <td>-0.207392</td>\n",
       "      <td>-0.157756</td>\n",
       "      <td>-0.237386</td>\n",
       "      <td>0.001934</td>\n",
       "      <td>1.50</td>\n",
       "    </tr>\n",
       "    <tr>\n",
       "      <th>278846</th>\n",
       "      <td>2.014160</td>\n",
       "      <td>-0.137394</td>\n",
       "      <td>-1.015839</td>\n",
       "      <td>0.327269</td>\n",
       "      <td>-0.182179</td>\n",
       "      <td>-0.956571</td>\n",
       "      <td>0.043241</td>\n",
       "      <td>-0.160746</td>\n",
       "      <td>0.363241</td>\n",
       "      <td>0.259452</td>\n",
       "      <td>...</td>\n",
       "      <td>-0.255293</td>\n",
       "      <td>-0.238644</td>\n",
       "      <td>-0.616400</td>\n",
       "      <td>0.347045</td>\n",
       "      <td>0.061561</td>\n",
       "      <td>-0.360196</td>\n",
       "      <td>0.174730</td>\n",
       "      <td>-0.078043</td>\n",
       "      <td>-0.070571</td>\n",
       "      <td>0.89</td>\n",
       "    </tr>\n",
       "  </tbody>\n",
       "</table>\n",
       "<p>5 rows × 29 columns</p>\n",
       "</div>"
      ],
      "text/plain": [
       "               V1        V2         V3        V4         V5        V6  \\\n",
       "43428  -16.526507  8.584972 -18.649853  9.505594 -13.793819 -2.832404   \n",
       "49906    0.339812 -2.743745  -0.134070 -1.385729  -1.451413  1.015887   \n",
       "29474    1.399590 -0.590701   0.168619 -1.029950  -0.539806  0.040444   \n",
       "276481  -0.432071  1.647895  -1.669361 -0.349504   0.785785 -0.630647   \n",
       "278846   2.014160 -0.137394  -1.015839  0.327269  -0.182179 -0.956571   \n",
       "\n",
       "               V7        V8        V9        V10  ...       V20       V21  \\\n",
       "43428  -16.701694  7.517344 -8.507059 -14.110184  ... -1.514923  1.190739   \n",
       "49906   -0.524379  0.224060  0.899746  -0.565012  ...  0.506044 -0.213436   \n",
       "29474   -0.712567  0.002299 -0.971747   0.756801  ...  0.212877  0.102398   \n",
       "276481   0.276990  0.586025 -0.484715  -1.376648  ... -0.244633  0.358932   \n",
       "278846   0.043241 -0.160746  0.363241   0.259452  ... -0.255293 -0.238644   \n",
       "\n",
       "             V22       V23       V24       V25       V26       V27       V28  \\\n",
       "43428  -1.127670 -2.358579  0.673461 -1.413700 -0.462762 -2.018575 -1.042804   \n",
       "49906  -0.942525 -0.526819 -1.156992  0.311211 -0.746647  0.040996  0.102038   \n",
       "29474   0.168269 -0.166639 -0.810250  0.505083 -0.232340  0.011409  0.004634   \n",
       "276481  0.873663 -0.178642 -0.017171 -0.207392 -0.157756 -0.237386  0.001934   \n",
       "278846 -0.616400  0.347045  0.061561 -0.360196  0.174730 -0.078043 -0.070571   \n",
       "\n",
       "        Amount  \n",
       "43428   364.19  \n",
       "49906   520.12  \n",
       "29474    31.00  \n",
       "276481    1.50  \n",
       "278846    0.89  \n",
       "\n",
       "[5 rows x 29 columns]"
      ]
     },
     "execution_count": 13,
     "metadata": {},
     "output_type": "execute_result"
    }
   ],
   "source": [
    "X_test.head()"
   ]
  },
  {
   "cell_type": "code",
   "execution_count": 14,
   "metadata": {},
   "outputs": [
    {
     "data": {
      "text/plain": [
       "2557      0\n",
       "247823    0\n",
       "152342    0\n",
       "103385    0\n",
       "8771      0\n",
       "Name: Class, dtype: int64"
      ]
     },
     "execution_count": 14,
     "metadata": {},
     "output_type": "execute_result"
    }
   ],
   "source": [
    "y_train.head()"
   ]
  },
  {
   "cell_type": "code",
   "execution_count": 15,
   "metadata": {},
   "outputs": [
    {
     "data": {
      "text/plain": [
       "43428     1\n",
       "49906     0\n",
       "29474     0\n",
       "276481    0\n",
       "278846    0\n",
       "Name: Class, dtype: int64"
      ]
     },
     "execution_count": 15,
     "metadata": {},
     "output_type": "execute_result"
    }
   ],
   "source": [
    "y_test.head()"
   ]
  },
  {
   "cell_type": "markdown",
   "metadata": {},
   "source": [
    "##### Preserve X_test & y_test to evaluate on the test data once you build the model"
   ]
  },
  {
   "cell_type": "code",
   "execution_count": 16,
   "metadata": {},
   "outputs": [
    {
     "name": "stdout",
     "output_type": "stream",
     "text": [
      "492\n",
      "356\n",
      "136\n"
     ]
    }
   ],
   "source": [
    "print(np.sum(y))\n",
    "print(np.sum(y_train))\n",
    "print(np.sum(y_test))"
   ]
  },
  {
   "cell_type": "markdown",
   "metadata": {},
   "source": [
    "### Plotting the distribution of a variable"
   ]
  },
  {
   "cell_type": "code",
   "execution_count": 17,
   "metadata": {
    "scrolled": false
   },
   "outputs": [
    {
     "data": {
      "image/png": "[encoded data removed]",
      "text/plain": [
       "<Figure size 1080x720 with 30 Axes>"
      ]
     },
     "metadata": {
      "needs_background": "light"
     },
     "output_type": "display_data"
    }
   ],
   "source": [
    "# plot the histogram of a variable from the dataset to see the skewness\n",
    "j=1\n",
    "plt.figure(figsize=(15,10))\n",
    "plt.subplots_adjust(hspace=0.7, wspace=0.4)\n",
    "for i in df.columns:\n",
    "    plt.subplot(6,5,j)\n",
    "    sns.distplot(df[i])\n",
    "    j+=1\n",
    "   "
   ]
  },
  {
   "cell_type": "markdown",
   "metadata": {},
   "source": [
    "### If there is skewness present in the distribution use:\n",
    "- <b>Power Transformer</b> package present in the <b>preprocessing library provided by sklearn</b> to make distribution more gaussian"
   ]
  },
  {
   "cell_type": "code",
   "execution_count": 18,
   "metadata": {},
   "outputs": [],
   "source": [
    "# - Apply : preprocessing.PowerTransformer(copy=False) to fit & transform the train & test data\n",
    "\n",
    "#X_train, X_test, y_train, y_test\n",
    "\n",
    "from sklearn.preprocessing import PowerTransformer\n",
    "pt= PowerTransformer()\n",
    "\n",
    "\n",
    "pt.fit(X_train)\n",
    "X_train_pt = pt.transform(X_train)    ## Then apply on all data\n",
    "X_test_pt = pt.transform(X_test)\n",
    "\n",
    "\n",
    "pt_y = PowerTransformer()# PowerTransformer requires a matrix/DataFrame\n",
    "pt_y.fit(y_train.to_frame()) \n",
    "y_train_pt = pt_y.transform(y_train.to_frame())\n",
    "y_test_pt = pt_y.transform(y_test.to_frame())\n"
   ]
  },
  {
   "cell_type": "code",
   "execution_count": 19,
   "metadata": {},
   "outputs": [],
   "source": [
    "X_train=pd.DataFrame(X_train_pt, columns=X_train.columns)\n",
    "X_test=pd.DataFrame(X_test_pt, columns=X_test.columns)\n"
   ]
  },
  {
   "cell_type": "code",
   "execution_count": 20,
   "metadata": {
    "scrolled": true
   },
   "outputs": [
    {
     "data": {
      "image/png": "[encoded data removed]",
      "text/plain": [
       "<Figure size 1080x720 with 29 Axes>"
      ]
     },
     "metadata": {
      "needs_background": "light"
     },
     "output_type": "display_data"
    }
   ],
   "source": [
    "# plot the histogram of a variable from the dataset again to see the result \n",
    "\n",
    "j=1\n",
    "plt.figure(figsize=(15,10))\n",
    "plt.subplots_adjust(hspace=0.7, wspace=0.4)\n",
    "for i in X_train.columns:\n",
    "    plt.subplot(6,5,j)\n",
    "    sns.distplot(X_train[i])\n",
    "    j+=1\n"
   ]
  },
  {
   "cell_type": "code",
   "execution_count": 21,
   "metadata": {},
   "outputs": [
    {
     "name": "stdout",
     "output_type": "stream",
     "text": [
      "(199364, 29) (199364,)\n"
     ]
    }
   ],
   "source": [
    "print(X_train.shape, y_train.shape)"
   ]
  },
  {
   "cell_type": "markdown",
   "metadata": {},
   "source": [
    "## Model Building\n",
    "- Build different models on the imbalanced dataset and see the result"
   ]
  },
  {
   "cell_type": "code",
   "execution_count": 22,
   "metadata": {},
   "outputs": [],
   "source": [
    "from sklearn.linear_model import LogisticRegression\n",
    "import sklearn.preprocessing\n",
    "from sklearn import metrics\n",
    "from sklearn.metrics import classification_report,confusion_matrix\n",
    "from sklearn.model_selection import KFold\n",
    "from sklearn.model_selection import cross_val_score\n",
    "from sklearn.model_selection import GridSearchCV\n",
    "from sklearn.model_selection import StratifiedKFold\n",
    "from sklearn.tree import DecisionTreeClassifier\n",
    "from sklearn.ensemble import RandomForestClassifier\n",
    "from sklearn.model_selection import RandomizedSearchCV"
   ]
  },
  {
   "cell_type": "markdown",
   "metadata": {},
   "source": [
    "#### 1. Logistic Regression:"
   ]
  },
  {
   "cell_type": "code",
   "execution_count": 25,
   "metadata": {
    "scrolled": false
   },
   "outputs": [],
   "source": [
    "# Logistic Regression\n",
    "from sklearn.linear_model import LogisticRegression  #import the package\n",
    "\n",
    "lr=LogisticRegression()\n",
    "lr.fit(X_train,y_train)\n",
    "x_pred =lr.predict(X_test)\n"
   ]
  },
  {
   "cell_type": "markdown",
   "metadata": {},
   "source": [
    "#### using k fold and randomized search"
   ]
  },
  {
   "cell_type": "code",
   "execution_count": 26,
   "metadata": {},
   "outputs": [
    {
     "name": "stdout",
     "output_type": "stream",
     "text": [
      "Best param {'penalty': 'l2', 'C': 0.01}\n",
      "Best AUC Score:  0.974240944552407\n"
     ]
    }
   ],
   "source": [
    "#create Logistic Regression object \n",
    "logistic=  LogisticRegression()\n",
    "\n",
    "\n",
    "#perform hyperparameter tuning\n",
    "\n",
    "#list of differerent penalty that we need to test our model is saved under variable \"penalty\"\n",
    "penalty = ['l1', 'l2'] \n",
    "\n",
    "\n",
    "#list of different regularisation strengththat we need to test is saved under \"C\"\n",
    "C = [0.0001, 0.001, 0.01, 0.1, 1, 10, 100, 1000]\n",
    "\n",
    "\n",
    "#now that we have two lists to test, we can use dictioary to combine them\n",
    "param_grid = dict (penalty =penalty, C=C)\n",
    "\n",
    "\n",
    "\n",
    "#fit model using randomized search \n",
    "from sklearn.model_selection import RandomizedSearchCV\n",
    "rsearch = RandomizedSearchCV(logistic,param_grid, n_iter =100, random_state=41,scoring='roc_auc')\n",
    "rsearch.fit(X_train, y_train)\n",
    "\n",
    "\n",
    "#print the evaluation result by choosing a evaluation metric\n",
    "print('Best param',rsearch.best_params_)\n",
    "print('Best AUC Score: ', rsearch.best_score_)\n",
    "\n"
   ]
  },
  {
   "cell_type": "markdown",
   "metadata": {},
   "source": [
    "From the randomised search it is seen that best parameters are \"L2\" penalty and \"C\" =0.01, hence building K-Fold cv using these parameters"
   ]
  },
  {
   "cell_type": "code",
   "execution_count": 27,
   "metadata": {},
   "outputs": [
    {
     "name": "stdout",
     "output_type": "stream",
     "text": [
      "[0.97152742 0.9527985  0.97794304 0.99196978 0.97540061]\n"
     ]
    }
   ],
   "source": [
    "#perform cross validation\n",
    "\n",
    "from sklearn.model_selection import KFold\n",
    "kfold=model_selection.KFold(n_splits=5, random_state= 41)\n",
    "\n",
    "model =LogisticRegression(C=0.01,penalty = 'l2')\n",
    "\n",
    "results=model_selection.cross_val_score(model,X_train, y_train,cv=kfold, scoring='roc_auc')\n",
    "print(results)"
   ]
  },
  {
   "cell_type": "code",
   "execution_count": 28,
   "metadata": {},
   "outputs": [
    {
     "name": "stdout",
     "output_type": "stream",
     "text": [
      "97.392787191691\n"
     ]
    }
   ],
   "source": [
    "print(results.mean()*100)"
   ]
  },
  {
   "cell_type": "markdown",
   "metadata": {},
   "source": [
    "By using K-fold and randomized search method, we get best AUC of 97.39 by using penalty 'L2' and C '0.01'"
   ]
  },
  {
   "cell_type": "markdown",
   "metadata": {},
   "source": [
    "#### using stratified k split and randomized search"
   ]
  },
  {
   "cell_type": "code",
   "execution_count": 29,
   "metadata": {},
   "outputs": [
    {
     "name": "stdout",
     "output_type": "stream",
     "text": [
      "\n",
      "1 of Kfold 5\n",
      "Best Score:  0.974240944552407\n",
      "Best Params:  {'penalty': 'l2', 'C': 0.01}\n",
      "\n",
      "2 of Kfold 5\n",
      "Best Score:  0.974240944552407\n",
      "Best Params:  {'penalty': 'l2', 'C': 0.01}\n",
      "\n",
      "3 of Kfold 5\n",
      "Best Score:  0.974240944552407\n",
      "Best Params:  {'penalty': 'l2', 'C': 0.01}\n",
      "\n",
      "4 of Kfold 5\n",
      "Best Score:  0.974240944552407\n",
      "Best Params:  {'penalty': 'l2', 'C': 0.01}\n",
      "\n",
      "5 of Kfold 5\n",
      "Best Score:  0.974240944552407\n",
      "Best Params:  {'penalty': 'l2', 'C': 0.01}\n"
     ]
    }
   ],
   "source": [
    "from sklearn.model_selection import StratifiedKFold\n",
    "from sklearn.metrics import f1_score\n",
    "\n",
    "#perform cross validation using stratified k fold \n",
    "skf=StratifiedKFold(n_splits=5,random_state=None, shuffle=False)\n",
    "\n",
    "\n",
    "#create Logistic Regression object \n",
    "logistic1=LogisticRegression()\n",
    "\n",
    "i=1\n",
    "for train_index, test_index in skf.split(X_train, y_train):\n",
    "    \n",
    "    print('\\n{} of Kfold {}'.format(i,skf.n_splits))\n",
    "    i+=1\n",
    "    X_train_cv, X_test_cv = X_train.iloc[train_index], X_train.iloc[test_index]\n",
    "    y_train_cv, y_test_cv  = y_train.iloc[train_index], y_train.iloc[test_index]\n",
    "\n",
    "    \n",
    "    #perform hyperparameter tuning\n",
    "    penalty = ['l1', 'l2']\n",
    "    C = [0.0001, 0.001, 0.01, 0.1, 1, 10, 100, 1000]\n",
    "    param_grid = dict(penalty=penalty,C=C)\n",
    "    \n",
    "    \n",
    "    #perform randomized search and fit model using randomsearch\n",
    "    grsearch = RandomizedSearchCV(logistic1,param_grid, n_iter =100, random_state=41,scoring='roc_auc')\n",
    "    model = grsearch.fit(X_train, y_train)\n",
    "    #y_test_pred=model.predict(X_test_cv)\n",
    "    \n",
    "    #print the evaluation result by choosing a evaluation metric\n",
    "    print('Best Score: ', model.best_score_)\n",
    "    print('Best Params: ', model.best_params_)\n",
    "    #print('F1_score:', f1_score(y_test_cv,y_test_pred))\n",
    "    \n",
    "\n",
    "\n",
    "#print the optimum value of hyperparameters"
   ]
  },
  {
   "cell_type": "markdown",
   "metadata": {},
   "source": [
    "By using Stratified K-fold and randomized search method, we get best AUC of 97.42 by using penalty 'L2' and C '0.01'.\n",
    "\n",
    "Both Stratified K-fold CV and K-fold CV, we get almost similar AUC score of 97"
   ]
  },
  {
   "cell_type": "code",
   "execution_count": 30,
   "metadata": {},
   "outputs": [
    {
     "data": {
      "text/html": [
       "<div>\n",
       "<style scoped>\n",
       "    .dataframe tbody tr th:only-of-type {\n",
       "        vertical-align: middle;\n",
       "    }\n",
       "\n",
       "    .dataframe tbody tr th {\n",
       "        vertical-align: top;\n",
       "    }\n",
       "\n",
       "    .dataframe thead th {\n",
       "        text-align: right;\n",
       "    }\n",
       "</style>\n",
       "<table border=\"1\" class=\"dataframe\">\n",
       "  <thead>\n",
       "    <tr style=\"text-align: right;\">\n",
       "      <th></th>\n",
       "      <th>y_train</th>\n",
       "      <th>y_train_pred</th>\n",
       "      <th>y_train_prob</th>\n",
       "    </tr>\n",
       "  </thead>\n",
       "  <tbody>\n",
       "    <tr>\n",
       "      <th>2557</th>\n",
       "      <td>0</td>\n",
       "      <td>0</td>\n",
       "      <td>0.000161</td>\n",
       "    </tr>\n",
       "    <tr>\n",
       "      <th>247823</th>\n",
       "      <td>0</td>\n",
       "      <td>0</td>\n",
       "      <td>0.000476</td>\n",
       "    </tr>\n",
       "    <tr>\n",
       "      <th>152342</th>\n",
       "      <td>0</td>\n",
       "      <td>0</td>\n",
       "      <td>0.000446</td>\n",
       "    </tr>\n",
       "    <tr>\n",
       "      <th>103385</th>\n",
       "      <td>0</td>\n",
       "      <td>0</td>\n",
       "      <td>0.000293</td>\n",
       "    </tr>\n",
       "    <tr>\n",
       "      <th>8771</th>\n",
       "      <td>0</td>\n",
       "      <td>0</td>\n",
       "      <td>0.000080</td>\n",
       "    </tr>\n",
       "  </tbody>\n",
       "</table>\n",
       "</div>"
      ],
      "text/plain": [
       "        y_train  y_train_pred  y_train_prob\n",
       "2557          0             0      0.000161\n",
       "247823        0             0      0.000476\n",
       "152342        0             0      0.000446\n",
       "103385        0             0      0.000293\n",
       "8771          0             0      0.000080"
      ]
     },
     "execution_count": 30,
     "metadata": {},
     "output_type": "execute_result"
    }
   ],
   "source": [
    "y_train_pred = model.predict(X_train)\n",
    "\n",
    "y_train_prob = model.predict_proba(X_train)[:,1]\n",
    "\n",
    "#[:,1] is used because predict_proba gives you the probabilities for the target (0 and 1 ) in array form \n",
    "#and we are selecting only the probability of getting 1\n",
    "\n",
    "y_train_df = pd.DataFrame( {'y_train':y_train,'y_train_pred':y_train_pred,'y_train_prob':y_train_prob})\n",
    "\n",
    "y_train_df.head()\n"
   ]
  },
  {
   "cell_type": "code",
   "execution_count": 24,
   "metadata": {},
   "outputs": [],
   "source": [
    "def getModelMetrics(actual,pred):\n",
    "\n",
    "    confusion = metrics.confusion_matrix(actual,pred)\n",
    "\n",
    "    TP = confusion[1,1] # true positive \n",
    "    TN = confusion[0,0] # true negatives\n",
    "    FP = confusion[0,1] # false positives\n",
    "    FN = confusion[1,0] # false negatives\n",
    "\n",
    "    print(\"Accuracy score: {}\".format(metrics.accuracy_score(actual,pred)))\n",
    "    # Let's see the Recall of our logistic regression model\n",
    "    Recall=TP / float(TP+FN)\n",
    "    print('Recall : {}'.format(Recall))\n",
    "    # Let us calculate Precision\n",
    "    precision =TP/ float(TP+FP)\n",
    "    print('Precision: {}'.format(precision))\n",
    "    # Let us calculate F1 score\n",
    "    print('F1 score : {}'.format( 2*precision*Recall/float(precision+Recall)))\n",
    "\n",
    "    \n",
    "    "
   ]
  },
  {
   "cell_type": "code",
   "execution_count": 32,
   "metadata": {},
   "outputs": [
    {
     "name": "stdout",
     "output_type": "stream",
     "text": [
      "Accuracy score: 0.9991623362292089\n",
      "Recall : 0.598314606741573\n",
      "Precision: 0.8987341772151899\n",
      "F1 score : 0.7183811129848229\n"
     ]
    }
   ],
   "source": [
    "getModelMetrics(y_train,y_train_pred)"
   ]
  },
  {
   "cell_type": "code",
   "execution_count": 33,
   "metadata": {},
   "outputs": [
    {
     "data": {
      "image/png": "[encoded data removed]",
      "text/plain": [
       "<Figure size 432x288 with 1 Axes>"
      ]
     },
     "metadata": {
      "needs_background": "light"
     },
     "output_type": "display_data"
    }
   ],
   "source": [
    "# Let's create columns with different probability cutoffs \n",
    "numbers = [float(x)/10 for x in range(10)]\n",
    "for i in numbers:\n",
    "    y_train_df[i]= y_train_df.y_train_prob.map(lambda x: 1 if x > i else 0)\n",
    "\n",
    "    \n",
    "# accuracy sensitivity and specificity for various probability cutoffs.\n",
    "cutoff_df = pd.DataFrame( columns = ['prob','accuracy','sensi','speci'])\n",
    "from sklearn.metrics import confusion_matrix\n",
    "\n",
    "# TP = confusion[1,1] # true positive \n",
    "# TN = confusion[0,0] # true negatives\n",
    "# FP = confusion[0,1] # false positives\n",
    "# FN = confusion[1,0] # false negatives\n",
    "\n",
    "num = [0.0,0.1,0.2,0.3,0.4,0.5,0.6,0.7,0.8,0.9]\n",
    "for i in num:\n",
    "    cm1 = metrics.confusion_matrix(y_train_df.y_train, y_train_df[i] )\n",
    "    total1=sum(sum(cm1))\n",
    "    accuracy = (cm1[0,0]+cm1[1,1])/total1\n",
    "    speci = cm1[0,0]/(cm1[0,0]+cm1[0,1])\n",
    "    sensi = cm1[1,1]/(cm1[1,0]+cm1[1,1])\n",
    "    cutoff_df.loc[i] =[ i ,accuracy,sensi,speci]\n",
    "\n",
    "    \n",
    "cutoff_df.plot.line(x='prob', y=['accuracy','sensi','speci'])\n",
    "plt.show()\n"
   ]
  },
  {
   "cell_type": "code",
   "execution_count": 34,
   "metadata": {},
   "outputs": [
    {
     "name": "stdout",
     "output_type": "stream",
     "text": [
      "Accuracy score: 0.9992626552436749\n",
      "Recall : 0.7865168539325843\n",
      "Precision: 0.7977207977207977\n",
      "F1 score : 0.7920792079207921\n"
     ]
    }
   ],
   "source": [
    "cut_off_prob = 0.1\n",
    "\n",
    "y_train_df['final_predicted'] = y_train_df.y_train_prob.map( lambda x: 1 if x > cut_off_prob else 0)\n",
    "\n",
    "getModelMetrics(y_train_df.y_train,y_train_df.final_predicted)"
   ]
  },
  {
   "cell_type": "markdown",
   "metadata": {},
   "source": [
    "### Decision Tree "
   ]
  },
  {
   "cell_type": "code",
   "execution_count": 35,
   "metadata": {},
   "outputs": [
    {
     "name": "stdout",
     "output_type": "stream",
     "text": [
      "Accuracy score: 0.9988663951365342\n",
      "Recall : 0.5955056179775281\n",
      "Precision: 0.7210884353741497\n",
      "F1 score : 0.6523076923076924\n"
     ]
    }
   ],
   "source": [
    "#Decision tree classifier object\n",
    "dt = DecisionTreeClassifier(max_features='auto',\n",
    "                             min_samples_split=100,\n",
    "                             min_samples_leaf=100,\n",
    "                             max_depth=6,\n",
    "                             random_state=10)\n",
    "\n",
    "#Fit the algorithm on the data\n",
    "dt.fit(X_train,y_train)\n",
    "\n",
    "#Predict training set:\n",
    "y_train_pred= dt.predict(X_train)\n",
    "\n",
    "#Let's check the model metrices.\n",
    "getModelMetrics(y_train,y_train_pred)"
   ]
  },
  {
   "cell_type": "code",
   "execution_count": 36,
   "metadata": {},
   "outputs": [
    {
     "name": "stdout",
     "output_type": "stream",
     "text": [
      "Fitting 3 folds for each of 360 candidates, totalling 1080 fits\n"
     ]
    },
    {
     "name": "stderr",
     "output_type": "stream",
     "text": [
      "[Parallel(n_jobs=4)]: Using backend LokyBackend with 4 concurrent workers.\n",
      "[Parallel(n_jobs=4)]: Done  42 tasks      | elapsed:   21.9s\n",
      "[Parallel(n_jobs=4)]: Done 192 tasks      | elapsed:  2.1min\n",
      "[Parallel(n_jobs=4)]: Done 442 tasks      | elapsed:  6.0min\n",
      "[Parallel(n_jobs=4)]: Done 792 tasks      | elapsed: 15.4min\n",
      "[Parallel(n_jobs=4)]: Done 1080 out of 1080 | elapsed: 25.2min finished\n"
     ]
    },
    {
     "name": "stdout",
     "output_type": "stream",
     "text": [
      "Roc_auc: 0.950841549387626\n",
      "Best params: {'max_depth': 5, 'max_features': 25, 'min_samples_leaf': 250, 'min_samples_split': 100}\n"
     ]
    }
   ],
   "source": [
    "# Create a Decision tree classifier object\n",
    "dt = DecisionTreeClassifier(random_state=10)\n",
    "\n",
    "\n",
    "#perform hyperparameter tuning\n",
    "\n",
    "# Create the parameter grid based on the results of random search \n",
    "param_grid = {  'max_depth': range(5,15,3),\n",
    "                'min_samples_leaf': range(100, 400, 50),\n",
    "                'min_samples_split': range(100, 400, 100),\n",
    "                'max_features': [8,10,15,20,25]\n",
    "             }\n",
    "\n",
    "\n",
    "# Instantiate the grid search model\n",
    "grid_search = GridSearchCV(estimator = dt, param_grid = param_grid, \n",
    "                          cv = 3, n_jobs = 4,verbose = 1,scoring=\"roc_auc\")\n",
    "\n",
    "# Fit the grid search to the data\n",
    "grid_search.fit(X_train, y_train)\n",
    "\n",
    "\n",
    "# printing the optimal accuracy score and hyperparameters\n",
    "print('Roc_auc:',grid_search.best_score_,)\n",
    "print('Best params:',grid_search.best_params_)"
   ]
  },
  {
   "cell_type": "code",
   "execution_count": 37,
   "metadata": {},
   "outputs": [
    {
     "name": "stdout",
     "output_type": "stream",
     "text": [
      "Accuracy score: 0.9990820810176361\n",
      "Recall : 0.6685393258426966\n",
      "Precision: 0.7854785478547854\n",
      "F1 score : 0.7223065250379362\n"
     ]
    }
   ],
   "source": [
    "# model with the best hyperparameters\n",
    "dt_final = DecisionTreeClassifier(max_depth=5,\n",
    "                             min_samples_leaf=250, \n",
    "                             min_samples_split=100,\n",
    "                             max_features=25,\n",
    "                             random_state=10)\n",
    "\n",
    "#Fit the algorithm on the data\n",
    "dt_final.fit(X_train,y_train)\n",
    "\n",
    "#Predict training set:\n",
    "y_train_pred= dt_final.predict(X_train)\n",
    "y_train_prob = dt_final.predict_proba(X_train)[:,1]\n",
    "\n",
    "#Let's check the model metrices.\n",
    "getModelMetrics(y_train,y_train_pred)"
   ]
  },
  {
   "cell_type": "code",
   "execution_count": 38,
   "metadata": {},
   "outputs": [
    {
     "data": {
      "image/png": "[encoded data removed]",
      "text/plain": [
       "<Figure size 432x288 with 1 Axes>"
      ]
     },
     "metadata": {
      "needs_background": "light"
     },
     "output_type": "display_data"
    }
   ],
   "source": [
    "y_train_df = pd.DataFrame( {'y_train':y_train,'y_train_pred':y_train_pred,'y_train_prob':y_train_prob})\n",
    "\n",
    "# Let's create columns with different probability cutoffs \n",
    "numbers = [float(x)/10 for x in range(10)]\n",
    "for i in numbers:\n",
    "    y_train_df[i]= y_train_df.y_train_prob.map(lambda x: 1 if x > i else 0)\n",
    "\n",
    "    \n",
    "# accuracy sensitivity and specificity for various probability cutoffs.\n",
    "cutoff_df = pd.DataFrame( columns = ['prob','accuracy','sensi','speci'])\n",
    "from sklearn.metrics import confusion_matrix\n",
    "\n",
    "# TP = confusion[1,1] # true positive \n",
    "# TN = confusion[0,0] # true negatives\n",
    "# FP = confusion[0,1] # false positives\n",
    "# FN = confusion[1,0] # false negatives\n",
    "\n",
    "num = [0.0,0.1,0.2,0.3,0.4,0.5,0.6,0.7,0.8,0.9]\n",
    "for i in num:\n",
    "    cm1 = metrics.confusion_matrix(y_train_df.y_train, y_train_df[i] )\n",
    "    total1=sum(sum(cm1))\n",
    "    accuracy = (cm1[0,0]+cm1[1,1])/total1\n",
    "    speci = cm1[0,0]/(cm1[0,0]+cm1[0,1])\n",
    "    sensi = cm1[1,1]/(cm1[1,0]+cm1[1,1])\n",
    "    cutoff_df.loc[i] =[ i ,accuracy,sensi,speci]\n",
    "\n",
    "    \n",
    "cutoff_df.plot.line(x='prob', y=['accuracy','sensi','speci'])\n",
    "plt.show()\n"
   ]
  },
  {
   "cell_type": "code",
   "execution_count": 39,
   "metadata": {},
   "outputs": [
    {
     "name": "stdout",
     "output_type": "stream",
     "text": [
      "Accuracy score: 0.9984551104244935\n",
      "Recall : 0.8602941176470589\n",
      "Precision: 0.508695652173913\n",
      "F1 score : 0.6393442622950819\n"
     ]
    }
   ],
   "source": [
    "cut_off_prob =0.1\n",
    "\n",
    "\n",
    "y_test_pred=dt_final.predict(X_test)\n",
    "y_test_prob=dt_final.predict_proba(X_test)[:,1]\n",
    "\n",
    "\n",
    "\n",
    "#creating a new df to store prediction values\n",
    "y_test_pred_df1 = pd.DataFrame({'y_test':y_test.values, 'y_test_pred':y_test_pred,\"y_test_prob\":y_test_prob })\n",
    "\n",
    "\n",
    "# Creating new column 'predicted' with 1 if Prob > else 0\n",
    "y_test_pred_df1['final_predicted'] = y_test_pred_df1.y_test_prob.map( lambda x: 1 if x > cut_off_prob else 0)\n",
    "\n",
    "\n",
    "\n",
    "getModelMetrics(y_test_pred_df1.y_test,y_test_pred_df1.final_predicted)"
   ]
  },
  {
   "cell_type": "markdown",
   "metadata": {},
   "source": [
    "#### RANDOM FOREST"
   ]
  },
  {
   "cell_type": "markdown",
   "metadata": {},
   "source": [
    "\n",
    "Let's first fit a random forest model with default hyperparameters."
   ]
  },
  {
   "cell_type": "code",
   "execution_count": 40,
   "metadata": {},
   "outputs": [],
   "source": [
    "# Importing random forest classifier from sklearn library\n",
    "from sklearn.ensemble import RandomForestClassifier\n",
    "\n",
    "# Running the random forest with default parameters.\n",
    "rfc = RandomForestClassifier()"
   ]
  },
  {
   "cell_type": "code",
   "execution_count": 41,
   "metadata": {},
   "outputs": [
    {
     "data": {
      "text/plain": [
       "RandomForestClassifier(bootstrap=True, ccp_alpha=0.0, class_weight=None,\n",
       "                       criterion='gini', max_depth=None, max_features='auto',\n",
       "                       max_leaf_nodes=None, max_samples=None,\n",
       "                       min_impurity_decrease=0.0, min_impurity_split=None,\n",
       "                       min_samples_leaf=1, min_samples_split=2,\n",
       "                       min_weight_fraction_leaf=0.0, n_estimators=100,\n",
       "                       n_jobs=None, oob_score=False, random_state=None,\n",
       "                       verbose=0, warm_start=False)"
      ]
     },
     "execution_count": 41,
     "metadata": {},
     "output_type": "execute_result"
    }
   ],
   "source": [
    "# fit\n",
    "rfc.fit(X_train,y_train)"
   ]
  },
  {
   "cell_type": "code",
   "execution_count": 42,
   "metadata": {},
   "outputs": [],
   "source": [
    "# Making predictions\n",
    "predictions = rfc.predict(X_test)"
   ]
  },
  {
   "cell_type": "code",
   "execution_count": 43,
   "metadata": {},
   "outputs": [],
   "source": [
    "# Importing classification report and confusion matrix from sklearn metrics\n",
    "from sklearn.metrics import classification_report,confusion_matrix, accuracy_score"
   ]
  },
  {
   "cell_type": "code",
   "execution_count": 44,
   "metadata": {},
   "outputs": [
    {
     "name": "stdout",
     "output_type": "stream",
     "text": [
      "              precision    recall  f1-score   support\n",
      "\n",
      "           0       1.00      1.00      1.00     85307\n",
      "           1       0.95      0.82      0.88       136\n",
      "\n",
      "    accuracy                           1.00     85443\n",
      "   macro avg       0.97      0.91      0.94     85443\n",
      "weighted avg       1.00      1.00      1.00     85443\n",
      "\n"
     ]
    }
   ],
   "source": [
    "# Let's check the report of our default model\n",
    "print(classification_report(y_test,predictions))"
   ]
  },
  {
   "cell_type": "code",
   "execution_count": 45,
   "metadata": {},
   "outputs": [
    {
     "name": "stdout",
     "output_type": "stream",
     "text": [
      "0.9996488887328394\n"
     ]
    }
   ],
   "source": [
    "print(accuracy_score(y_test,predictions))"
   ]
  },
  {
   "cell_type": "markdown",
   "metadata": {},
   "source": [
    "###### Random Search to Find Optimal Hyperparameters"
   ]
  },
  {
   "cell_type": "code",
   "execution_count": 46,
   "metadata": {},
   "outputs": [],
   "source": [
    "#the following code has been commented as it takes long time to execute"
   ]
  },
  {
   "cell_type": "code",
   "execution_count": 60,
   "metadata": {},
   "outputs": [
    {
     "data": {
      "text/plain": [
       "'from sklearn.model_selection import RandomizedSearchCV\\n# Create the parameter grid based on the results of random search \\n\\nparam_grid = {\\n    \\'max_depth\\': [2,4,6,8,10],\\n    \\'criterion\\' : [\\'gini\\', \\'entropy\\'],\\n    \\'min_samples_leaf\\': [1, 10, 25, 50, 75, 100],\\n    \\'min_samples_split\\': [2,3,5,7,9],\\n    \\'n_estimators\\': [10, 50, 100, 200, 400,500,700,1000,1500,2000], \\n    \\'max_features\\': [\\'auto\\'],\\n    \\'max_leaf_nodes\\':[None,10 ,25, 50, 100, 500]\\n}\\n# Create a based model\\nrf = RandomForestClassifier(random_state=48)\\n\\n# Instantiate the grid search model\\ngr_search = RandomizedSearchCV(estimator = rf, \\n                              param_distributions = param_grid, \\n                              cv = 3, n_jobs = -1,\\n                              verbose = 1,scoring=\"roc_auc\",\\n                              random_state=48)\\n\\n\\nFit the grid search to the data\\ngr_search.fit(X_train, y_train)\\n\\n\\n# printing the optimal accuracy score and hyperparameters\\nprint(\\'Roc_auc:\\',gr_search.best_score_,)\\nprint(\\'Best params:\\',gr_search.best_params_)\\n'"
      ]
     },
     "execution_count": 60,
     "metadata": {},
     "output_type": "execute_result"
    }
   ],
   "source": [
    "'''from sklearn.model_selection import RandomizedSearchCV\n",
    "# Create the parameter grid based on the results of random search \n",
    "\n",
    "param_grid = {\n",
    "    'max_depth': [2,4,6,8,10],\n",
    "    'criterion' : ['gini', 'entropy'],\n",
    "    'min_samples_leaf': [1, 10, 25, 50, 75, 100],\n",
    "    'min_samples_split': [2,3,5,7,9],\n",
    "    'n_estimators': [10, 50, 100, 200, 400,500,700,1000,1500,2000], \n",
    "    'max_features': ['auto'],\n",
    "    'max_leaf_nodes':[None,10 ,25, 50, 100, 500]\n",
    "}\n",
    "# Create a based model\n",
    "rf = RandomForestClassifier(random_state=48)\n",
    "\n",
    "# Instantiate the grid search model\n",
    "gr_search = RandomizedSearchCV(estimator = rf, \n",
    "                              param_distributions = param_grid, \n",
    "                              cv = 3, n_jobs = -1,\n",
    "                              verbose = 1,scoring=\"roc_auc\",\n",
    "                              random_state=48)\n",
    "\n",
    "\n",
    "Fit the grid search to the data\n",
    "gr_search.fit(X_train, y_train)\n",
    "\n",
    "\n",
    "# printing the optimal accuracy score and hyperparameters\n",
    "print('Roc_auc:',gr_search.best_score_,)\n",
    "print('Best params:',gr_search.best_params_)\n",
    "'''"
   ]
  },
  {
   "cell_type": "markdown",
   "metadata": {},
   "source": [
    "![alt text](random_hp.png \"Title\")"
   ]
  },
  {
   "cell_type": "markdown",
   "metadata": {},
   "source": [
    "###### **Fitting the final model with the best parameters obtained from random search.**"
   ]
  },
  {
   "cell_type": "code",
   "execution_count": 48,
   "metadata": {},
   "outputs": [
    {
     "name": "stdout",
     "output_type": "stream",
     "text": [
      "Accuracy score: 0.9995836760899661\n",
      "Recall : 0.7921348314606742\n",
      "Precision: 0.9690721649484536\n",
      "F1 score : 0.8717156105100465\n"
     ]
    }
   ],
   "source": [
    "# model with the best hyperparameters\n",
    "\n",
    "rf_final = RandomForestClassifier(max_depth=6,\n",
    "                             min_samples_leaf=1, \n",
    "                             min_samples_split=9,\n",
    "                             max_features='auto',\n",
    "                             criterion='entropy',\n",
    "                             n_estimators = 400,\n",
    "                             max_leaf_nodes= 500,\n",
    "                             random_state = 48)\n",
    "\n",
    "#Fit the algorithm on the data\n",
    "rf_final.fit(X_train,y_train)\n",
    "\n",
    "#Predict training set:\n",
    "y_train_pred= rf_final.predict(X_train)\n",
    "y_train_prob = rf_final.predict_proba(X_train)[:,1]\n",
    "\n",
    "#Let's check the model metrices.\n",
    "getModelMetrics(y_train,y_train_pred)"
   ]
  },
  {
   "cell_type": "code",
   "execution_count": 49,
   "metadata": {},
   "outputs": [
    {
     "data": {
      "image/png": "[encoded data removed]",
      "text/plain": [
       "<Figure size 432x288 with 1 Axes>"
      ]
     },
     "metadata": {
      "needs_background": "light"
     },
     "output_type": "display_data"
    }
   ],
   "source": [
    "y_train_df = pd.DataFrame( {'y_train':y_train,'y_train_pred':y_train_pred,'y_train_prob':y_train_prob})\n",
    "\n",
    "# Let's create columns with different probability cutoffs \n",
    "numbers = [float(x)/10 for x in range(10)]\n",
    "for i in numbers:\n",
    "    y_train_df[i]= y_train_df.y_train_prob.map(lambda x: 1 if x > i else 0)\n",
    "\n",
    "    \n",
    "# accuracy sensitivity and specificity for various probability cutoffs.\n",
    "cutoff_df = pd.DataFrame( columns = ['prob','accuracy','sensi','speci'])\n",
    "from sklearn.metrics import confusion_matrix\n",
    "\n",
    "# TP = confusion[1,1] # true positive \n",
    "# TN = confusion[0,0] # true negatives\n",
    "# FP = confusion[0,1] # false positives\n",
    "# FN = confusion[1,0] # false negatives\n",
    "\n",
    "num = [0.0,0.1,0.2,0.3,0.4,0.5,0.6,0.7,0.8,0.9]\n",
    "for i in num:\n",
    "    cm1 = metrics.confusion_matrix(y_train_df.y_train, y_train_df[i] )\n",
    "    total1=sum(sum(cm1))\n",
    "    accuracy = (cm1[0,0]+cm1[1,1])/total1\n",
    "    speci = cm1[0,0]/(cm1[0,0]+cm1[0,1])\n",
    "    sensi = cm1[1,1]/(cm1[1,0]+cm1[1,1])\n",
    "    cutoff_df.loc[i] =[ i ,accuracy,sensi,speci]\n",
    "\n",
    "    \n",
    "cutoff_df.plot.line(x='prob', y=['accuracy','sensi','speci'])\n",
    "plt.show()"
   ]
  },
  {
   "cell_type": "code",
   "execution_count": 50,
   "metadata": {},
   "outputs": [
    {
     "name": "stdout",
     "output_type": "stream",
     "text": [
      "Accuracy score: 0.9992626663389628\n",
      "Recall : 0.875\n",
      "Precision: 0.7212121212121212\n",
      "F1 score : 0.7906976744186047\n"
     ]
    }
   ],
   "source": [
    "cut_off_prob =0.1\n",
    "\n",
    "\n",
    "y_test_pred=rf_final.predict(X_test)\n",
    "y_test_prob=rf_final.predict_proba(X_test)[:,1]\n",
    "\n",
    "\n",
    "\n",
    "#creating a new df to store prediction values\n",
    "y_test_pred_df1 = pd.DataFrame({'y_test':y_test.values, 'y_test_pred':y_test_pred,\"y_test_prob\":y_test_prob })\n",
    "\n",
    "\n",
    "# Creating new column 'predicted' with 1 if Prob > else 0\n",
    "y_test_pred_df1['final_predicted'] = y_test_pred_df1.y_test_prob.map( lambda x: 1 if x > cut_off_prob else 0)\n",
    "\n",
    "\n",
    "\n",
    "getModelMetrics(y_test_pred_df1.y_test,y_test_pred_df1.final_predicted)"
   ]
  },
  {
   "cell_type": "markdown",
   "metadata": {},
   "source": [
    "#### XGBOOST CLASSIFIER"
   ]
  },
  {
   "cell_type": "code",
   "execution_count": 26,
   "metadata": {},
   "outputs": [],
   "source": [
    "from sklearn.ensemble import AdaBoostClassifier\n",
    "from sklearn.ensemble import GradientBoostingClassifier\n",
    "\n",
    "import xgboost as xgb\n",
    "from xgboost import XGBClassifier\n",
    "from xgboost import plot_importance\n",
    "\n"
   ]
  },
  {
   "cell_type": "code",
   "execution_count": 52,
   "metadata": {},
   "outputs": [
    {
     "data": {
      "text/plain": [
       "XGBClassifier(base_score=0.5, booster='gbtree', colsample_bylevel=1,\n",
       "              colsample_bynode=1, colsample_bytree=1, gamma=0,\n",
       "              learning_rate=0.1, max_delta_step=0, max_depth=3,\n",
       "              min_child_weight=1, missing=None, n_estimators=100, n_jobs=1,\n",
       "              nthread=None, objective='binary:logistic', random_state=0,\n",
       "              reg_alpha=0, reg_lambda=1, scale_pos_weight=1, seed=None,\n",
       "              silent=None, subsample=1, verbosity=1)"
      ]
     },
     "execution_count": 52,
     "metadata": {},
     "output_type": "execute_result"
    }
   ],
   "source": [
    "# fit model on training data with default hyperparameters\n",
    "model = XGBClassifier()\n",
    "model.fit(X_train, y_train)"
   ]
  },
  {
   "cell_type": "code",
   "execution_count": 53,
   "metadata": {},
   "outputs": [
    {
     "data": {
      "text/plain": [
       "array([[9.85705853e-03, 9.90142941e-01],\n",
       "       [9.99893546e-01, 1.06424297e-04],\n",
       "       [9.99846101e-01, 1.53906585e-04],\n",
       "       [9.99866009e-01, 1.33961672e-04],\n",
       "       [9.99923468e-01, 7.65458026e-05],\n",
       "       [9.99838352e-01, 1.61666307e-04],\n",
       "       [9.99884009e-01, 1.15981595e-04],\n",
       "       [9.99879837e-01, 1.20175777e-04],\n",
       "       [9.99862134e-01, 1.37886513e-04],\n",
       "       [9.99827802e-01, 1.72194661e-04]], dtype=float32)"
      ]
     },
     "execution_count": 53,
     "metadata": {},
     "output_type": "execute_result"
    }
   ],
   "source": [
    "# make predictions for test data\n",
    "# use predict_proba since we need probabilities to compute auc\n",
    "y_pred = model.predict_proba(X_test)\n",
    "y_pred[:10]"
   ]
  },
  {
   "cell_type": "code",
   "execution_count": 54,
   "metadata": {},
   "outputs": [
    {
     "name": "stdout",
     "output_type": "stream",
     "text": [
      "AUC: 98.13%\n"
     ]
    }
   ],
   "source": [
    "# evaluate predictions\n",
    "roc = metrics.roc_auc_score(y_test, y_pred[:, 1])\n",
    "print(\"AUC: %.2f%%\" % (roc * 100.0))"
   ]
  },
  {
   "cell_type": "markdown",
   "metadata": {},
   "source": [
    "##### Let's now try tuning the hyperparameters using  grid search CV to find the optimal values of hyperparameters."
   ]
  },
  {
   "cell_type": "markdown",
   "metadata": {},
   "source": [
    "By adjusting the learning rate to less than 1, we can regularize the model. **A model with higher learning_rate learns fast, but is prone to overfitting; one with a lower learning rate learns slowly, but avoids overfitting**\n",
    "\n",
    "Also, there's a trade-off between **learning_rate and n_estimators - the higher the learning rate, the lesser trees the model needs (and thus we usually tune only one of them)**.\n",
    "\n",
    "Also, by subsampling (setting subsample to less than 1), we can have the individual models built on random subsamples of size subsample. That way, each tree will be trained on different subsets and reduce the model's variance."
   ]
  },
  {
   "cell_type": "code",
   "execution_count": 55,
   "metadata": {},
   "outputs": [
    {
     "data": {
      "text/plain": [
       "\"\\n# hyperparameter tuning with XGBoost\\n\\n# creating a KFold object \\nfolds = 3\\n\\n# specify range of hyperparameters\\nparam_grid = {'learning_rate': [0.1, 0.3, 0.5, 0.6, 0.8, 0.9], \\n             'subsample': [0.3, 0.6, 0.9]}          \\n\\n\\n# specify model\\nxgb_model = XGBClassifier(max_depth=2, n_estimators=200,random_state=42)\\n\\n# set up GridSearchCV()\\nmodel_cv = GridSearchCV(estimator = xgb_model, \\n                        param_grid = param_grid, \\n                        scoring= 'roc_auc', \\n                        cv = folds,n_jobs=-1, \\n                        verbose = 1,\\n                        return_train_score=True)\\n                              \\n# fit the model\\nmodel_cv.fit(X_train, y_train)  \\n\\n\\n\""
      ]
     },
     "execution_count": 55,
     "metadata": {},
     "output_type": "execute_result"
    }
   ],
   "source": [
    "'''\n",
    "# hyperparameter tuning with XGBoost\n",
    "\n",
    "# creating a KFold object \n",
    "folds = 3\n",
    "\n",
    "# specify range of hyperparameters\n",
    "param_grid = {'learning_rate': [0.1, 0.3, 0.5, 0.6, 0.8, 0.9], \n",
    "             'subsample': [0.3, 0.6, 0.9]}          \n",
    "\n",
    "\n",
    "# specify model\n",
    "xgb_model = XGBClassifier(max_depth=2, n_estimators=200,random_state=42)\n",
    "\n",
    "# set up GridSearchCV()\n",
    "model_cv = GridSearchCV(estimator = xgb_model, \n",
    "                        param_grid = param_grid, \n",
    "                        scoring= 'roc_auc', \n",
    "                        cv = folds,n_jobs=-1, \n",
    "                        verbose = 1,\n",
    "                        return_train_score=True)\n",
    "                              \n",
    "# fit the model\n",
    "model_cv.fit(X_train, y_train)  \n",
    "\n",
    "\n",
    "'''"
   ]
  },
  {
   "cell_type": "code",
   "execution_count": 56,
   "metadata": {},
   "outputs": [
    {
     "data": {
      "text/plain": [
       "\"\\n# printing the optimal accuracy score and hyperparameters\\nprint('Roc_auc:',model_cv.best_score_,)\\nprint('Best params:',model_cv.best_params_)\\n\""
      ]
     },
     "execution_count": 56,
     "metadata": {},
     "output_type": "execute_result"
    }
   ],
   "source": [
    "'''\n",
    "# printing the optimal accuracy score and hyperparameters\n",
    "print('Roc_auc:',model_cv.best_score_,)\n",
    "print('Best params:',model_cv.best_params_)\n",
    "'''"
   ]
  },
  {
   "cell_type": "markdown",
   "metadata": {},
   "source": [
    "##### #Let's build a final model with the chosen hyperparameters."
   ]
  },
  {
   "cell_type": "code",
   "execution_count": 57,
   "metadata": {},
   "outputs": [
    {
     "name": "stdout",
     "output_type": "stream",
     "text": [
      "Accuracy score: 0.9996639313015389\n",
      "Recall : 0.8286516853932584\n",
      "Precision: 0.9800664451827242\n",
      "F1 score : 0.898021308980213\n"
     ]
    }
   ],
   "source": [
    "# model with the best hyperparameters\n",
    "# 'objective':'binary:logistic' outputs probability rather than label, which we need for auc\n",
    "\n",
    "xgboost_final = XGBClassifier(learning_rate = 0.1,\n",
    "                              max_depth = 2, \n",
    "                              n_estimators = 200,\n",
    "                              subsample = 0.6,\n",
    "                              objective = 'binary:logistic')\n",
    "\n",
    "#Fit the algorithm on the data\n",
    "xgboost_final.fit(X_train,y_train)\n",
    "\n",
    "#Predict training set:\n",
    "y_train_pred= xgboost_final.predict(X_train)\n",
    "y_train_prob = xgboost_final.predict_proba(X_train)[:,1]\n",
    "\n",
    "#Let's check the model metrices.\n",
    "getModelMetrics(y_train,y_train_pred)"
   ]
  },
  {
   "cell_type": "code",
   "execution_count": 58,
   "metadata": {},
   "outputs": [
    {
     "data": {
      "image/png": "[encoded data removed]",
      "text/plain": [
       "<Figure size 432x288 with 1 Axes>"
      ]
     },
     "metadata": {
      "needs_background": "light"
     },
     "output_type": "display_data"
    }
   ],
   "source": [
    "y_train_df = pd.DataFrame( {'y_train':y_train,'y_train_pred':y_train_pred,'y_train_prob':y_train_prob})\n",
    "\n",
    "# Let's create columns with different probability cutoffs \n",
    "numbers = [float(x)/10 for x in range(10)]\n",
    "for i in numbers:\n",
    "    y_train_df[i]= y_train_df.y_train_prob.map(lambda x: 1 if x > i else 0)\n",
    "\n",
    "    \n",
    "# accuracy sensitivity and specificity for various probability cutoffs.\n",
    "cutoff_df = pd.DataFrame( columns = ['prob','accuracy','sensi','speci'])\n",
    "from sklearn.metrics import confusion_matrix\n",
    "\n",
    "# TP = confusion[1,1] # true positive \n",
    "# TN = confusion[0,0] # true negatives\n",
    "# FP = confusion[0,1] # false positives\n",
    "# FN = confusion[1,0] # false negatives\n",
    "\n",
    "num = [0.0,0.1,0.2,0.3,0.4,0.5,0.6,0.7,0.8,0.9]\n",
    "for i in num:\n",
    "    cm1 = metrics.confusion_matrix(y_train_df.y_train, y_train_df[i] )\n",
    "    total1=sum(sum(cm1))\n",
    "    accuracy = (cm1[0,0]+cm1[1,1])/total1\n",
    "    speci = cm1[0,0]/(cm1[0,0]+cm1[0,1])\n",
    "    sensi = cm1[1,1]/(cm1[1,0]+cm1[1,1])\n",
    "    cutoff_df.loc[i] =[ i ,accuracy,sensi,speci]\n",
    "\n",
    "    \n",
    "cutoff_df.plot.line(x='prob', y=['accuracy','sensi','speci'])\n",
    "plt.show()"
   ]
  },
  {
   "cell_type": "code",
   "execution_count": 59,
   "metadata": {},
   "outputs": [
    {
     "name": "stdout",
     "output_type": "stream",
     "text": [
      "Accuracy score: 0.9993445923013002\n",
      "Recall : 0.875\n",
      "Precision: 0.7531645569620253\n",
      "F1 score : 0.8095238095238096\n"
     ]
    }
   ],
   "source": [
    "cut_off_prob =0.1\n",
    "\n",
    "\n",
    "y_test_pred=xgboost_final.predict(X_test)\n",
    "y_test_prob=xgboost_final.predict_proba(X_test)[:,1]\n",
    "\n",
    "\n",
    "\n",
    "#creating a new df to store prediction values\n",
    "y_test_pred_df1 = pd.DataFrame({'y_test':y_test.values, 'y_test_pred':y_test_pred,\"y_test_prob\":y_test_prob })\n",
    "\n",
    "\n",
    "# Creating new column 'predicted' with 1 if Prob > else 0\n",
    "y_test_pred_df1['final_predicted'] = y_test_pred_df1.y_test_prob.map( lambda x: 1 if x > cut_off_prob else 0)\n",
    "\n",
    "\n",
    "\n",
    "getModelMetrics(y_test_pred_df1.y_test,y_test_pred_df1.final_predicted)"
   ]
  },
  {
   "cell_type": "markdown",
   "metadata": {},
   "source": [
    "Following are the test results obtained from different models\n",
    "\n",
    "\n",
    ">Logistic Regression\n",
    "\n",
    "    Roc_auc: 0.9742\n",
    "    Accuracy score: 0.9992626552436749\n",
    "    Recall : 0.7865168539325843\n",
    "    Precision: 0.7977207977207977\n",
    "    F1 score : 0.7920792079207921\n",
    "\n",
    ">Decision Trees:\n",
    "\n",
    "    Roc_auc: 0.950841549387626\n",
    "    Accuracy score: 0.9988663951365342\n",
    "    Recall : 0.5955056179775281\n",
    "    Precision: 0.7210884353741497\n",
    "    F1 score : 0.6523076923076924\n",
    "\n",
    "\n",
    ">Random forest\n",
    "\n",
    "    AUC-ROC score  : 0.978\n",
    "    Accuracy score: 0.9992626663389628\n",
    "    Recall : 0.875\n",
    "    Precision: 0.7212121212121212\n",
    "    F1 score : 0.7906976744186047\n",
    "\n",
    "\n",
    ">xg boost \n",
    "\n",
    "    AUC-ROC score : 0.98\n",
    "    Accuracy score: 0.9993445923013002\n",
    "    Recall : 0.875\n",
    "    Precision: 0.7531645569620253\n",
    "    F1 score : 0.8095238095238096\n"
   ]
  },
  {
   "cell_type": "markdown",
   "metadata": {},
   "source": [
    "From all the models, XG boost has the highest train ROC-AUC score of 0.98, with a good F1 score of 0.89, and this model gave a better precision and recall compared with other models."
   ]
  },
  {
   "cell_type": "code",
   "execution_count": 62,
   "metadata": {},
   "outputs": [
    {
     "data": {
      "text/plain": [
       "XGBClassifier(base_score=0.5, booster='gbtree', colsample_bylevel=1,\n",
       "              colsample_bynode=1, colsample_bytree=1, gamma=0,\n",
       "              learning_rate=0.1, max_delta_step=0, max_depth=2,\n",
       "              min_child_weight=1, missing=None, n_estimators=200, n_jobs=1,\n",
       "              nthread=None, objective='binary:logistic', random_state=0,\n",
       "              reg_alpha=0, reg_lambda=1, scale_pos_weight=1, seed=None,\n",
       "              silent=None, subsample=0.6, verbosity=1)"
      ]
     },
     "execution_count": 62,
     "metadata": {},
     "output_type": "execute_result"
    }
   ],
   "source": [
    "clf = XGBClassifier(learning_rate = 0.1,\n",
    "                              max_depth = 2, \n",
    "                              n_estimators = 200,\n",
    "                              subsample = 0.6,\n",
    "                              objective = 'binary:logistic')\n",
    "\n",
    "clf.fit(X_train, y_train)"
   ]
  },
  {
   "cell_type": "markdown",
   "metadata": {},
   "source": [
    "### Print the important features of the best model to understand the dataset\n",
    "- This will not give much explanation on the already transformed dataset\n",
    "- But it will help us in understanding if the dataset is not PCA transformed"
   ]
  },
  {
   "cell_type": "code",
   "execution_count": 64,
   "metadata": {},
   "outputs": [
    {
     "name": "stdout",
     "output_type": "stream",
     "text": [
      "Top var = 17\n",
      "2nd Top var = 14\n",
      "3rd Top var = 12\n"
     ]
    },
    {
     "data": {
      "text/plain": [
       "<matplotlib.legend.Legend at 0x250010869b0>"
      ]
     },
     "execution_count": 64,
     "metadata": {},
     "output_type": "execute_result"
    },
    {
     "data": {
      "image/png": "[encoded data removed]",
      "text/plain": [
       "<Figure size 720x720 with 1 Axes>"
      ]
     },
     "metadata": {
      "needs_background": "light"
     },
     "output_type": "display_data"
    }
   ],
   "source": [
    "var_imp = []\n",
    "for i in clf.feature_importances_:\n",
    "    var_imp.append(i)\n",
    "print('Top var =', var_imp.index(np.sort(clf.feature_importances_)[-1])+1)\n",
    "print('2nd Top var =', var_imp.index(np.sort(clf.feature_importances_)[-2])+1)\n",
    "print('3rd Top var =', var_imp.index(np.sort(clf.feature_importances_)[-3])+1)\n",
    "\n",
    "# Variable on Index-16 and Index-13 seems to be the top 2 variables\n",
    "top_var_index = var_imp.index(np.sort(clf.feature_importances_)[-1])\n",
    "second_top_var_index = var_imp.index(np.sort(clf.feature_importances_)[-2])\n",
    "\n",
    "X_train_1 = X_train.to_numpy()[np.where(y_train==1.0)]\n",
    "X_train_0 = X_train.to_numpy()[np.where(y_train==0.0)]\n",
    "\n",
    "np.random.shuffle(X_train_0)\n",
    "\n",
    "import matplotlib.pyplot as plt\n",
    "%matplotlib inline\n",
    "plt.rcParams['figure.figsize'] = [10,10]\n",
    "\n",
    "plt.scatter(X_train_1[:, top_var_index], X_train_1[:, second_top_var_index], label='Actual Class-1 Examples')\n",
    "plt.scatter(X_train_0[:X_train_1.shape[0], top_var_index], X_train_0[:X_train_1.shape[0], second_top_var_index],\n",
    "            label='Actual Class-0 Examples')\n",
    "plt.legend()"
   ]
  },
  {
   "cell_type": "markdown",
   "metadata": {},
   "source": [
    "## Model building with balancing Classes\n",
    "\n",
    "##### Perform class balancing with :\n",
    "\n",
    "- SMOTE\n",
    "- ADASYN"
   ]
  },
  {
   "cell_type": "markdown",
   "metadata": {},
   "source": [
    "## Model Building\n",
    "- Build different models on the balanced dataset and see the result"
   ]
  },
  {
   "cell_type": "code",
   "execution_count": 103,
   "metadata": {},
   "outputs": [],
   "source": [
    "from sklearn.metrics import roc_auc_score\n",
    "from sklearn.model_selection import RandomizedSearchCV\n",
    "\n",
    "def model_result(classifier, name, grid, X_train, y_train, scoring):\n",
    "    \n",
    "    rsearch=RandomizedSearchCV(classifier, \n",
    "                               grid,\n",
    "                               cv=5, \n",
    "                               scoring = scoring,\n",
    "                               n_iter =100,\n",
    "                               random_state=41)\n",
    "    \n",
    "    rsearch.fit(X_train, y_train)\n",
    "    \n",
    "       \n",
    "    print(\"Estimator\" , rsearch.best_estimator_)\n",
    "    print(\"best_params\",rsearch.best_params_)\n",
    "    print(\"best ROC_AUC\" ,rsearch.best_score_)     "
   ]
  },
  {
   "cell_type": "markdown",
   "metadata": {},
   "source": [
    "#### 1.Using SMOTE:"
   ]
  },
  {
   "cell_type": "code",
   "execution_count": 23,
   "metadata": {},
   "outputs": [
    {
     "name": "stderr",
     "output_type": "stream",
     "text": [
      "Using TensorFlow backend.\n"
     ]
    }
   ],
   "source": [
    "import warnings\n",
    "warnings.filterwarnings(\"ignore\")\n",
    "\n",
    "from imblearn import over_sampling\n",
    "\n",
    "sm = over_sampling.SMOTE(random_state=0)\n",
    "X_train_smote, y_train_smote = sm.fit_resample(X_train, y_train)\n"
   ]
  },
  {
   "cell_type": "code",
   "execution_count": 113,
   "metadata": {},
   "outputs": [
    {
     "name": "stdout",
     "output_type": "stream",
     "text": [
      "(398016, 29) [0 0 0 ... 1 1 1]\n",
      "[[-1.24135323 -0.38525366  0.48917768 ...  0.97460115 -0.45102353\n",
      "  -1.53670689]\n",
      " [-0.43339721 -2.20064542 -1.92319694 ... -0.71907234  0.35303073\n",
      "   2.21702413]\n",
      " [-1.07393844 -0.43680592  1.88835474 ... -0.1618815   0.2846202\n",
      "   0.73153043]\n",
      " ...\n",
      " [-0.88038794  0.26003521 -0.64860446 ...  1.14921076  0.5334816\n",
      "   0.78390849]\n",
      " [-3.21271219  6.39156614 -6.4249332  ... -3.38538324 -1.54737533\n",
      "   1.24487561]\n",
      " [-0.28665373  3.32489191 -2.90694927 ...  1.0944786   0.66397155\n",
      "  -1.60819918]]\n"
     ]
    }
   ],
   "source": [
    "print(X_train_smote.shape,y_train_smote)\n",
    "print(X_train_smote)"
   ]
  },
  {
   "cell_type": "code",
   "execution_count": 106,
   "metadata": {},
   "outputs": [
    {
     "data": {
      "text/plain": [
       "<matplotlib.legend.Legend at 0x25002a27780>"
      ]
     },
     "execution_count": 106,
     "metadata": {},
     "output_type": "execute_result"
    },
    {
     "data": {
      "image/png": "[encoded data removed]",
      "text/plain": [
       "<Figure size 720x720 with 3 Axes>"
      ]
     },
     "metadata": {
      "needs_background": "light"
     },
     "output_type": "display_data"
    }
   ],
   "source": [
    "# Artificial minority samples and corresponding minority labels from SMOTE are appended\n",
    "# below X_train and y_train respectively\n",
    "# So to exclusively get the artificial minority samples from SMOTE, we do\n",
    "X_train_smote_1 = X_train_smote[X_train.shape[0]:]\n",
    "\n",
    "X_train_1 = X_train.to_numpy()[np.where(y_train==1.0)]\n",
    "X_train_0 = X_train.to_numpy()[np.where(y_train==0.0)]\n",
    "\n",
    "\n",
    "plt.rcParams['figure.figsize'] = [10,10]\n",
    "fig = plt.figure()\n",
    "\n",
    "plt.subplot(3, 1, 1)\n",
    "plt.scatter(X_train_1[:, 0], X_train_1[:, 1], label='Actual Class-1 Examples')\n",
    "plt.legend()\n",
    "\n",
    "plt.subplot(3, 1, 2)\n",
    "plt.scatter(X_train_1[:, 0], X_train_1[:, 1], label='Actual Class-1 Examples')\n",
    "plt.scatter(X_train_smote_1[:X_train_1.shape[0], 0], X_train_smote_1[:X_train_1.shape[0], 1],\n",
    "            label='Artificial SMOTE Class-1 Examples')\n",
    "plt.legend()\n",
    "\n",
    "plt.subplot(3, 1, 3)\n",
    "plt.scatter(X_train_1[:, 0], X_train_1[:, 1], label='Actual Class-1 Examples')\n",
    "plt.scatter(X_train_0[:X_train_1.shape[0], 0], X_train_0[:X_train_1.shape[0], 1], label='Actual Class-0 Examples')\n",
    "plt.legend()"
   ]
  },
  {
   "cell_type": "markdown",
   "metadata": {},
   "source": [
    "##### using Logistic regression with SMOTE"
   ]
  },
  {
   "cell_type": "code",
   "execution_count": 69,
   "metadata": {
    "scrolled": true
   },
   "outputs": [
    {
     "name": "stdout",
     "output_type": "stream",
     "text": [
      "Estimator LogisticRegression(C=1000.0, class_weight=None, dual=False, fit_intercept=True,\n",
      "                   intercept_scaling=1, l1_ratio=None, max_iter=100,\n",
      "                   multi_class='auto', n_jobs=None, penalty='l2',\n",
      "                   random_state=88, solver='lbfgs', tol=0.0001, verbose=0,\n",
      "                   warm_start=False)\n",
      "best_params {'penalty': 'l2', 'C': 1000.0}\n",
      "best ROC_AUC 0.9890027402434874\n"
     ]
    }
   ],
   "source": [
    "model = {'name': 'logreg','label': 'Logistic Regression',\n",
    "           'classifier': LogisticRegression(random_state=88),\n",
    "           'grid': {\"C\":np.logspace(-3,3,7), \"penalty\":[\"l1\",\"l2\"]}}\n",
    "\n",
    "\n",
    "\n",
    "\n",
    "model_result( model['classifier'],model['name'],model['grid'],X_train_smote,y_train_smote,'roc_auc')\n"
   ]
  },
  {
   "cell_type": "markdown",
   "metadata": {},
   "source": [
    "##### using Decision trees with SMOTE :"
   ]
  },
  {
   "cell_type": "code",
   "execution_count": 70,
   "metadata": {},
   "outputs": [
    {
     "name": "stdout",
     "output_type": "stream",
     "text": [
      "Estimator DecisionTreeClassifier(ccp_alpha=0.0, class_weight=None, criterion='gini',\n",
      "                       max_depth=8, max_features=None, max_leaf_nodes=None,\n",
      "                       min_impurity_decrease=0.0, min_impurity_split=None,\n",
      "                       min_samples_leaf=1, min_samples_split=2,\n",
      "                       min_weight_fraction_leaf=0.0, presort='deprecated',\n",
      "                       random_state=88, splitter='best')\n",
      "best_params {'max_depth': 8}\n",
      "best ROC_AUC 0.9937850764796675\n"
     ]
    }
   ],
   "source": [
    "model = {'name': 'dsc','label': 'Descision Tree', \n",
    "           'classifier': DecisionTreeClassifier(random_state=88),\n",
    "           'grid': {\"max_depth\":np.arange(8)+1}}\n",
    "\n",
    "\n",
    "\n",
    "model_result( model['classifier'],model['name'],model['grid'],X_train_smote,y_train_smote,'roc_auc')\n",
    "\n"
   ]
  },
  {
   "cell_type": "markdown",
   "metadata": {},
   "source": [
    "##### Using Random forest with SMOTE:"
   ]
  },
  {
   "cell_type": "code",
   "execution_count": null,
   "metadata": {},
   "outputs": [],
   "source": [
    "model = {'name': 'rf', 'label': 'Random Forest',\n",
    "           'classifier': RandomForestClassifier(random_state=88),\n",
    "           'grid':  {\n",
    "                    'max_depth': [2,4,6,8,10],\n",
    "                    'criterion' : ['gini', 'entropy'],\n",
    "                    'min_samples_leaf': [1, 10, 25, 50, 75, 100],\n",
    "                    'min_samples_split': [2,3,5,7,9],\n",
    "                    'n_estimators': [10, 50, 100, 200, 400,500,700,1000,1500,2000], \n",
    "                    'max_features': ['auto'],\n",
    "                    'max_leaf_nodes':[None,10 ,25, 50, 100, 500]\n",
    "                    }\n",
    "\n",
    "\n",
    "results.append(model_result( model['classifier'],model['name'],model['grid'],X_train_smote,y_train_smote,'roc_auc'))\n",
    "\n"
   ]
  },
  {
   "cell_type": "markdown",
   "metadata": {},
   "source": [
    "##### Using XG boost with SMOTE:"
   ]
  },
  {
   "cell_type": "code",
   "execution_count": 79,
   "metadata": {},
   "outputs": [
    {
     "data": {
      "text/plain": [
       "\"model = {'name': 'xgboost', 'label': 'XG boost',\\n           'classifier': XGBClassifier(n_estimators=200,random_state=42),\\n           'grid': {'learning_rate': [0.1, 0.5, 0.6, 0.9], \\n                    'subsample': [0.3, 0.6, 0.9],\\n                     'max_depth' :[2,4]}  }\\n\\n\\nmodel_result( model['classifier'],model['name'],model['grid'],X_train_smote,y_train_smote,'roc_auc')\\n\""
      ]
     },
     "execution_count": 79,
     "metadata": {},
     "output_type": "execute_result"
    }
   ],
   "source": [
    "model = {'name': 'xgboost', 'label': 'XG boost',\n",
    "           'classifier': XGBClassifier(n_estimators=200,random_state=42),\n",
    "           'grid': {'learning_rate': [0.1, 0.5, 0.6, 0.9], \n",
    "                    'subsample': [0.3, 0.6, 0.9],\n",
    "                     'max_depth' :[2,4]}  }\n",
    "\n",
    "\n",
    "model_result( model['classifier'],model['name'],model['grid'],X_train_smote,y_train_smote,'roc_auc')"
   ]
  },
  {
   "cell_type": "markdown",
   "metadata": {},
   "source": [
    "![alt text](smote.png \"Title\")"
   ]
  },
  {
   "cell_type": "markdown",
   "metadata": {},
   "source": [
    "Following is the result from the different models\n",
    "\n",
    "\n",
    ">Logistic Regression:\n",
    "\n",
    "    best_params {'penalty': 'l2', 'C': 1000.0}\n",
    "    best ROC_AUC 0.9890027402434874\n",
    "\n",
    "\n",
    ">Decision Tree\n",
    "\n",
    "    best_params {'max_depth': 8}\n",
    "    best ROC_AUC 0.9937850764796675\n",
    "\n",
    "    \n",
    ">Random Forest\n",
    "\n",
    "    best_params { 'n_estimators': 400, 'min_samples_leaf': 1,max_depth=10, max_features: 'auto'}\n",
    "    best ROC_AUC 0.999528\n",
    "    \n",
    "    \n",
    ">Xgboost\n",
    "\n",
    "    best_params {'subsample': 0.9, 'max_depth': 4, 'learning_rate': 0.5}\n",
    "    best ROC_AUC 0.99996\n",
    "    "
   ]
  },
  {
   "cell_type": "markdown",
   "metadata": {},
   "source": [
    "#### 2. Using ADASYN"
   ]
  },
  {
   "cell_type": "code",
   "execution_count": 71,
   "metadata": {},
   "outputs": [],
   "source": [
    "import warnings\n",
    "warnings.filterwarnings(\"ignore\")\n",
    "\n",
    "from imblearn import over_sampling\n",
    "\n",
    "ada = over_sampling.ADASYN(random_state=0)\n",
    "X_train_adasyn, y_train_adasyn = ada.fit_resample(X_train, y_train)"
   ]
  },
  {
   "cell_type": "code",
   "execution_count": 72,
   "metadata": {},
   "outputs": [
    {
     "data": {
      "text/plain": [
       "<matplotlib.legend.Legend at 0x25024143dd8>"
      ]
     },
     "execution_count": 72,
     "metadata": {},
     "output_type": "execute_result"
    },
    {
     "data": {
      "image/png": "[encoded data removed]",
      "text/plain": [
       "<Figure size 720x720 with 3 Axes>"
      ]
     },
     "metadata": {
      "needs_background": "light"
     },
     "output_type": "display_data"
    }
   ],
   "source": [
    "\n",
    "# Artificial minority samples and corresponding minority labels from ADASYN are appended\n",
    "# below X_train and y_train respectively\n",
    "# So to exclusively get the artificial minority samples from ADASYN, we do\n",
    "X_train_adasyn_1 = X_train_adasyn[X_train.shape[0]:]\n",
    "\n",
    "X_train_1 = X_train.to_numpy()[np.where(y_train==1.0)]\n",
    "X_train_0 = X_train.to_numpy()[np.where(y_train==0.0)]\n",
    "\n",
    "\n",
    "\n",
    "import matplotlib.pyplot as plt\n",
    "%matplotlib inline\n",
    "plt.rcParams['figure.figsize'] = [10,10]\n",
    "fig = plt.figure()\n",
    "\n",
    "plt.subplot(3, 1, 1)\n",
    "plt.scatter(X_train_1[:, 0], X_train_1[:, 1], label='Actual Class-1 Examples')\n",
    "plt.legend()\n",
    "\n",
    "plt.subplot(3, 1, 2)\n",
    "plt.scatter(X_train_1[:, 0], X_train_1[:, 1], label='Actual Class-1 Examples')\n",
    "plt.scatter(X_train_adasyn_1[:X_train_1.shape[0], 0], X_train_adasyn_1[:X_train_1.shape[0], 1],\n",
    "            label='Artificial ADASYN Class-1 Examples')\n",
    "plt.legend()\n",
    "\n",
    "plt.subplot(3, 1, 3)\n",
    "plt.scatter(X_train_1[:, 0], X_train_1[:, 1], label='Actual Class-1 Examples')\n",
    "plt.scatter(X_train_0[:X_train_1.shape[0], 0], X_train_0[:X_train_1.shape[0], 1], label='Actual Class-0 Examples')\n",
    "plt.legend()"
   ]
  },
  {
   "cell_type": "code",
   "execution_count": 73,
   "metadata": {},
   "outputs": [
    {
     "name": "stdout",
     "output_type": "stream",
     "text": [
      "(398005, 29)\n"
     ]
    }
   ],
   "source": [
    "print(X_train_adasyn.shape)"
   ]
  },
  {
   "cell_type": "markdown",
   "metadata": {},
   "source": [
    "#### Using Logistic regression to Adasyn"
   ]
  },
  {
   "cell_type": "code",
   "execution_count": 74,
   "metadata": {},
   "outputs": [
    {
     "name": "stdout",
     "output_type": "stream",
     "text": [
      "Estimator LogisticRegression(C=1000.0, class_weight=None, dual=False, fit_intercept=True,\n",
      "                   intercept_scaling=1, l1_ratio=None, max_iter=100,\n",
      "                   multi_class='auto', n_jobs=None, penalty='l2',\n",
      "                   random_state=88, solver='lbfgs', tol=0.0001, verbose=0,\n",
      "                   warm_start=False)\n",
      "best_params {'penalty': 'l2', 'C': 1000.0}\n",
      "best ROC_AUC 0.9451449091910904\n"
     ]
    }
   ],
   "source": [
    "model = {'name': 'logreg','label': 'Logistic Regression',\n",
    "           'classifier': LogisticRegression(random_state=88),\n",
    "           'grid': {\"C\":np.logspace(-3,3,7), \"penalty\":[\"l1\",\"l2\"]}}\n",
    "\n",
    "\n",
    "\n",
    "model_result( model['classifier'],model['name'],model['grid'],X_train_adasyn,y_train_adasyn,'roc_auc')\n"
   ]
  },
  {
   "cell_type": "markdown",
   "metadata": {},
   "source": [
    "#### using Decision trees with Adaysn :"
   ]
  },
  {
   "cell_type": "code",
   "execution_count": 75,
   "metadata": {},
   "outputs": [
    {
     "name": "stdout",
     "output_type": "stream",
     "text": [
      "Estimator DecisionTreeClassifier(ccp_alpha=0.0, class_weight=None, criterion='gini',\n",
      "                       max_depth=7, max_features=None, max_leaf_nodes=None,\n",
      "                       min_impurity_decrease=0.0, min_impurity_split=None,\n",
      "                       min_samples_leaf=1, min_samples_split=2,\n",
      "                       min_weight_fraction_leaf=0.0, presort='deprecated',\n",
      "                       random_state=88, splitter='best')\n",
      "best_params {'max_depth': 7}\n",
      "best ROC_AUC 0.9271794525806065\n"
     ]
    }
   ],
   "source": [
    "model = {'name': 'dsc','label': 'Descision Tree', \n",
    "           'classifier': DecisionTreeClassifier(random_state=88),\n",
    "           'grid': {\"max_depth\":np.arange(8)+1}}\n",
    "\n",
    "\n",
    "model_result( model['classifier'],model['name'],model['grid'],X_train_adasyn,y_train_adasyn,'roc_auc')\n"
   ]
  },
  {
   "cell_type": "markdown",
   "metadata": {},
   "source": [
    "#### Using XG boost with Adasyn: "
   ]
  },
  {
   "cell_type": "code",
   "execution_count": null,
   "metadata": {},
   "outputs": [],
   "source": [
    "model = {'name': 'xgboost', 'label': 'XG boost',\n",
    "           'classifier': XGBClassifier(n_estimators=200,random_state=42),\n",
    "           'grid': {'learning_rate': [0.1,0.5,0.8, 0.9], \n",
    "                    'subsample': [0.3, 0.6, 0.9],\n",
    "                     'max_depth' :[2,3,4]} }\n",
    "\n",
    "model_result( model['classifier'],model['name'],model['grid'],X_train_adasyn,y_train_adasyn,'roc_auc'))\n",
    "\n",
    "\n",
    "\n"
   ]
  },
  {
   "cell_type": "markdown",
   "metadata": {},
   "source": [
    "#### Using Random forest with Adasyn:"
   ]
  },
  {
   "cell_type": "code",
   "execution_count": null,
   "metadata": {},
   "outputs": [],
   "source": [
    "model = {'name': 'rf', 'label': 'Random Forest',\n",
    "           'classifier': RandomForestClassifier(random_state=88),\n",
    "           'grid':  {\n",
    "                    'max_depth': [2,4,6,8,10],\n",
    "                    'criterion' : ['gini', 'entropy'],\n",
    "                    'min_samples_leaf': [1, 10, 25, 50, 75, 100],\n",
    "                    'min_samples_split': [2,3,5,7,9],\n",
    "                    'n_estimators': [10, 50, 100, 200, 400,500,700,1000,1500,2000], \n",
    "                    'max_features': ['auto'],\n",
    "                    'max_leaf_nodes':[None,10 ,25, 50, 100, 500]\n",
    "                    }\n",
    "\n",
    "\n",
    "\n",
    "model_result( model['classifier'],model['name'],model['grid'],X_train_adasyn,y_train_adasyn,'roc_auc'))\n"
   ]
  },
  {
   "cell_type": "markdown",
   "metadata": {},
   "source": [
    "![alt text](adasyn.png \"Title\")"
   ]
  },
  {
   "cell_type": "markdown",
   "metadata": {},
   "source": [
    "##### Following is the result obtained from different models:\n",
    "\n",
    "\n",
    ">Logistic Regression\n",
    "\n",
    "    best_params {'penalty': 'l2', 'C': 1000.0}\n",
    "    best ROC_AUC 0.9451449091910904\n",
    "\n",
    ">Decision Tree\n",
    "\n",
    "    best_params {'max_depth': 7}\n",
    "    best ROC_AUC 0.9271794525806065\n",
    "\n",
    "    \n",
    ">Random Forest\n",
    "\n",
    "    best_params {'n_estimators': 200, 'min_samples_leaf': 25,max_depth=10, max_features='auto'}\n",
    "    best ROC_AUC 0.986571\n",
    "    \n",
    "    \n",
    ">Xgboost\n",
    "\n",
    "    best_params {'subsample': 0.6, 'max_depth': 4, 'learning_rate': 0.5  }\n",
    "    best ROC_AUC 0.999334\n",
    " "
   ]
  },
  {
   "cell_type": "markdown",
   "metadata": {},
   "source": [
    "From the results above, it is seen that \"XG boost\" works better with \" Smote\" model with roc_auc of 0.9996 ,hence we are using the best parameters to create a new model "
   ]
  },
  {
   "cell_type": "code",
   "execution_count": 27,
   "metadata": {},
   "outputs": [],
   "source": [
    "X_train_smote=pd.DataFrame(X_train_smote, columns=X_train.columns)\n",
    "\n",
    "\n",
    "# model with the best hyperparameters\n",
    "# 'objective':'binary:logistic' outputs probability rather than label, which we need for auc\n",
    "\n",
    "xgboost_final = XGBClassifier(learning_rate = 0.5,\n",
    "                              max_depth = 4, \n",
    "                              n_estimators = 200,\n",
    "                              subsample = 0.9,\n",
    "                              objective = 'binary:logistic')\n",
    "\n",
    "#Fit the algorithm on the data\n",
    "xgboost_final.fit(X_train_smote,y_train_smote)\n",
    "\n",
    "#Predict training set:\n",
    "y_train_pred= xgboost_final.predict(X_train_smote)\n",
    "y_train_prob = xgboost_final.predict_proba(X_train_smote)[:,1]\n",
    "\n"
   ]
  },
  {
   "cell_type": "code",
   "execution_count": 47,
   "metadata": {},
   "outputs": [
    {
     "name": "stdout",
     "output_type": "stream",
     "text": [
      "Accuracy score: 1.0\n",
      "Recall : 1.0\n",
      "Precision: 1.0\n",
      "F1 score : 1.0\n"
     ]
    }
   ],
   "source": [
    "#Let's check the model metrices.\n",
    "getModelMetrics(y_train_smote,y_train_pred)"
   ]
  },
  {
   "cell_type": "code",
   "execution_count": 29,
   "metadata": {},
   "outputs": [
    {
     "data": {
      "text/plain": [
       "<Figure size 504x504 with 0 Axes>"
      ]
     },
     "metadata": {},
     "output_type": "display_data"
    },
    {
     "data": {
      "image/png": "[encoded data removed]",
      "text/plain": [
       "<Figure size 432x288 with 1 Axes>"
      ]
     },
     "metadata": {
      "needs_background": "light"
     },
     "output_type": "display_data"
    }
   ],
   "source": [
    "y_train_df = pd.DataFrame( {'y_train':y_train_smote,'y_train_pred':y_train_pred,'y_train_prob':y_train_prob})\n",
    "\n",
    "# Let's create columns with different probability cutoffs \n",
    "numbers = [float(x)/10 for x in range(10)]\n",
    "for i in numbers:\n",
    "    y_train_df[i]= y_train_df.y_train_prob.map(lambda x: 1 if x > i else 0)\n",
    "\n",
    "    \n",
    "# accuracy sensitivity and specificity for various probability cutoffs.\n",
    "cutoff_df = pd.DataFrame( columns = ['prob','accuracy','sensi','speci'])\n",
    "from sklearn.metrics import confusion_matrix\n",
    "\n",
    "# TP = confusion[1,1] # true positive \n",
    "# TN = confusion[0,0] # true negatives\n",
    "# FP = confusion[0,1] # false positives\n",
    "# FN = confusion[1,0] # false negatives\n",
    "\n",
    "num = [0.0,0.1,0.2,0.3,0.4,0.5,0.6,0.7,0.8,0.9]\n",
    "for i in num:\n",
    "    cm1 = metrics.confusion_matrix(y_train_df.y_train, y_train_df[i] )\n",
    "    total1=sum(sum(cm1))\n",
    "    accuracy = (cm1[0,0]+cm1[1,1])/total1\n",
    "    speci = cm1[0,0]/(cm1[0,0]+cm1[0,1])\n",
    "    sensi = cm1[1,1]/(cm1[1,0]+cm1[1,1])\n",
    "    cutoff_df.loc[i] =[ i ,accuracy,sensi,speci]\n",
    "\n",
    "plt.figure(figsize=(7,7))    \n",
    "cutoff_df.plot.line(x='prob', y=['accuracy','sensi','speci'])\n",
    "plt.show()"
   ]
  },
  {
   "cell_type": "code",
   "execution_count": 43,
   "metadata": {},
   "outputs": [
    {
     "name": "stdout",
     "output_type": "stream",
     "text": [
      "Accuracy score: 0.9993679997191109\n",
      "Recall : 0.8823529411764706\n",
      "Precision: 0.759493670886076\n",
      "F1 score : 0.8163265306122449\n"
     ]
    }
   ],
   "source": [
    "cut_off_prob =0.5\n",
    "\n",
    "\n",
    "y_test_pred=xgboost_final.predict(X_test)\n",
    "y_test_prob=xgboost_final.predict_proba(X_test)[:,1]\n",
    "\n",
    "\n",
    "\n",
    "#creating a new df to store prediction values\n",
    "y_test_pred_df1 = pd.DataFrame({'y_test':y_test.values, 'y_test_pred':y_test_pred,\"y_test_prob\":y_test_prob })\n",
    "\n",
    "\n",
    "# Creating new column 'predicted' with 1 if Prob > else 0\n",
    "y_test_pred_df1['final_predicted'] = y_test_pred_df1.y_test_prob.map( lambda x: 1 if x > cut_off_prob else 0)\n",
    "\n",
    "\n",
    "\n",
    "getModelMetrics(y_test_pred_df1.y_test,y_test_pred_df1.final_predicted)"
   ]
  },
  {
   "cell_type": "markdown",
   "metadata": {},
   "source": [
    "### Print the important features of the best model to understand the dataset"
   ]
  },
  {
   "cell_type": "code",
   "execution_count": 46,
   "metadata": {},
   "outputs": [
    {
     "name": "stdout",
     "output_type": "stream",
     "text": [
      "Top var = 14\n",
      "2nd Top var = 4\n",
      "3rd Top var = 8\n"
     ]
    },
    {
     "data": {
      "text/plain": [
       "<matplotlib.legend.Legend at 0x215974b1748>"
      ]
     },
     "execution_count": 46,
     "metadata": {},
     "output_type": "execute_result"
    },
    {
     "data": {
      "image/png": "[encoded data removed]",
      "text/plain": [
       "<Figure size 504x504 with 1 Axes>"
      ]
     },
     "metadata": {
      "needs_background": "light"
     },
     "output_type": "display_data"
    }
   ],
   "source": [
    "var_imp = []\n",
    "for i in xgboost_final.feature_importances_:\n",
    "    var_imp.append(i)\n",
    "print('Top var =', var_imp.index(np.sort(xgboost_final.feature_importances_)[-1])+1)\n",
    "print('2nd Top var =', var_imp.index(np.sort(xgboost_final.feature_importances_)[-2])+1)\n",
    "print('3rd Top var =', var_imp.index(np.sort(xgboost_final.feature_importances_)[-3])+1)\n",
    "\n",
    "# Variable on Index-13 and Index-9 seems to be the top 2 variables\n",
    "top_var_index = var_imp.index(np.sort(xgboost_final.feature_importances_)[-1])\n",
    "second_top_var_index = var_imp.index(np.sort(xgboost_final.feature_importances_)[-2])\n",
    "\n",
    "X_train_1 = X_train.to_numpy()[np.where(y_train==1.0)]\n",
    "X_train_0 = X_train.to_numpy()[np.where(y_train==0.0)]\n",
    "\n",
    "np.random.shuffle(X_train_0)\n",
    "\n",
    "import matplotlib.pyplot as plt\n",
    "%matplotlib inline\n",
    "plt.rcParams['figure.figsize'] = [7,7]\n",
    "\n",
    "plt.scatter(X_train_1[:, top_var_index], X_train_1[:, second_top_var_index], label='Actual Class-1 Examples')\n",
    "plt.scatter(X_train_0[:X_train_1.shape[0], top_var_index], X_train_0[:X_train_1.shape[0], second_top_var_index],\n",
    "            label='Actual Class-0 Examples')\n",
    "plt.legend()"
   ]
  }
 ],
 "metadata": {
  "kernelspec": {
   "display_name": "Python 3",
   "language": "python",
   "name": "python3"
  },
  "language_info": {
   "codemirror_mode": {
    "name": "ipython",
    "version": 3
   },
   "file_extension": ".py",
   "mimetype": "text/x-python",
   "name": "python",
   "nbconvert_exporter": "python",
   "pygments_lexer": "ipython3",
   "version": "3.7.3"
  }
 },
 "nbformat": 4,
 "nbformat_minor": 2
}
